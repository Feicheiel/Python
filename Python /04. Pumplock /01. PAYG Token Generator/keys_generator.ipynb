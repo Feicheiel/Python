{
 "cells": [
  {
   "cell_type": "markdown",
   "id": "45ae4bb8-6321-4c20-b270-d16cb01d17bf",
   "metadata": {
    "tags": []
   },
   "source": [
    "# Generate ID"
   ]
  },
  {
   "cell_type": "markdown",
   "id": "ab5050e7-eb78-4694-861a-9d32d6583c9c",
   "metadata": {
    "tags": []
   },
   "source": [
    "## Former generate_ID"
   ]
  },
  {
   "cell_type": "code",
   "execution_count": 1,
   "id": "a1e38efd-11a1-495f-ae16-830bd9343322",
   "metadata": {
    "tags": []
   },
   "outputs": [],
   "source": [
    "def generate_ID(number_of_digits, adds_up_to):\n",
    "    \n",
    "    '''\n",
    "    DESCRIPTION:\n",
    "        This function generates a string of digits,  representing\n",
    "        an identification number, with the given number_of_digits\n",
    "        that adds up to give you a number equal to adds_up_to.\n",
    "        \n",
    "        \n",
    "    ARGUMENTS:\n",
    "        number_of_digits:\n",
    "            the number of digits of the ID number to generate.\n",
    "        \n",
    "        adds_up_to:\n",
    "            the digits of the id must add up to this number.\n",
    "    \n",
    "    \n",
    "    RETURNS:\n",
    "        A string of the found ID, that meets the criteria given.\n",
    "    '''\n",
    "    \n",
    "    i = 0; n = 0; j = 0; k = 0; \n",
    "    no_Of_Digits = number_of_digits; secret_Add_Up_To_Key = adds_up_to;\n",
    "    digits = []\n",
    "\n",
    "    from random import randint\n",
    "    i = randint(1,9)\n",
    "        \n",
    "    n += 1\n",
    "    digits.append(str(i))\n",
    "\n",
    "    while (n < no_Of_Digits):\n",
    "        j = randint(0, 9) \n",
    "        n += 1\n",
    "        \n",
    "        if (n == no_Of_Digits):\n",
    "            if (j ==0):\n",
    "                j = randint(1, 9)\n",
    "            \n",
    "            i += j; k = i%9\n",
    "            if (secret_Add_Up_To_Key != k):\n",
    "                i -= j; k = i%9\n",
    "                \n",
    "                if (k == 0):\n",
    "                    j = secret_Add_Up_To_Key\n",
    "                elif (k == secret_Add_Up_To_Key):\n",
    "                    j = 9\n",
    "                elif (k < secret_Add_Up_To_Key):\n",
    "                    j = secret_Add_Up_To_Key - k\n",
    "                elif (k > secret_Add_Up_To_Key):\n",
    "                    j = int('1{}'.format(secret_Add_Up_To_Key-1)) - k\n",
    "                    \n",
    "        i += j; k = i%9\n",
    "        digits.append(str(j))\n",
    "\n",
    "    return ''.join(digits)\n"
   ]
  },
  {
   "cell_type": "code",
   "execution_count": 2,
   "id": "b6506d21-2779-4c90-adb1-02ac8d2285ba",
   "metadata": {
    "tags": []
   },
   "outputs": [],
   "source": [
    "ID = \"OL143G2\""
   ]
  },
  {
   "cell_type": "code",
   "execution_count": 3,
   "id": "a6098b5d-6513-4a0a-b856-6341bb089172",
   "metadata": {
    "tags": []
   },
   "outputs": [
    {
     "data": {
      "text/plain": [
       "'4013071'"
      ]
     },
     "execution_count": 3,
     "metadata": {},
     "output_type": "execute_result"
    }
   ],
   "source": [
    "generate_ID(7, 7)"
   ]
  },
  {
   "cell_type": "markdown",
   "id": "dd60c672-04fa-48d6-91b0-e5526ce79e5f",
   "metadata": {},
   "source": [
    "## Current generateID"
   ]
  },
  {
   "cell_type": "code",
   "execution_count": 4,
   "id": "0839bd44-f5a7-4968-9a18-f95341bb209f",
   "metadata": {
    "tags": []
   },
   "outputs": [],
   "source": [
    "def generateID(count, digitSum, repetition=False):\n",
    "    \n",
    "    '''\n",
    "    DESCRIPTION:\n",
    "        This function generates a string of digits,  representing\n",
    "        an identification number, with the given number_of_digits\n",
    "        that adds up to give you a number equal to adds_up_to.\n",
    "        \n",
    "        \n",
    "    ARGUMENTS:\n",
    "        number_of_digits:\n",
    "            the number of digits of the ID number to generate.\n",
    "        \n",
    "        adds_up_to:\n",
    "            the digits of the id must add up to this number.\n",
    "        \n",
    "        repetition:\n",
    "            whether or not to allow repetition of literals.\n",
    "    \n",
    "    RETURNS:\n",
    "        A string of the found ID, that meets the criteria given.\n",
    "    '''\n",
    "    from random import randint\n",
    "    \n",
    "    literal = (\n",
    "        #numerals...\n",
    "        '5', '6', '7', '1', '2', '4', '9', '3', '0', '8',\n",
    "        #alphals...\n",
    "        'I', 'O', 'E', 'H', 'L', 'Z', 'F', 'G', 'J'\n",
    "    )\n",
    "    \n",
    "    \n",
    "    if (repetition):\n",
    "        token = list()\n",
    "        keys = list()       \n",
    "        \n",
    "    else:\n",
    "        token = set()\n",
    "        keys = set()\n",
    "    \n",
    "    ds = 0;\n",
    "    \n",
    "    while (True):  \n",
    "        \n",
    "        key = randint(0,18)\n",
    "        \n",
    "        if (repetition):\n",
    "            \n",
    "            if (not len(token)):\n",
    "                while (key == 8):\n",
    "                    key = randint(0,18)\n",
    "            token += literal[key]\n",
    "            keys += key\n",
    "            \n",
    "        else:\n",
    "            if (not len(token)):\n",
    "                while (key == 8):\n",
    "                    key = randint(0,18)\n",
    "            token.add(literal[key])\n",
    "            keys.add(key)\n",
    "        \n",
    "        if (len(token) >= count):\n",
    "            for key in keys:\n",
    "                ds += key\n",
    "            \n",
    "            if (ds%9 == digitSum):\n",
    "                break\n",
    "            \n",
    "            else:\n",
    "                ds = 0\n",
    "                if (repetition): \n",
    "                    token = list()\n",
    "                    keys = list()\n",
    "                else:\n",
    "                    token = set()\n",
    "                    keys = set()\n",
    "    \n",
    "    return token\n"
   ]
  },
  {
   "cell_type": "code",
   "execution_count": 5,
   "id": "9c954774-38a2-46e4-a5f3-fdac8adfcd7e",
   "metadata": {
    "tags": []
   },
   "outputs": [
    {
     "data": {
      "text/plain": [
       "'EF3J8L1'"
      ]
     },
     "execution_count": 5,
     "metadata": {},
     "output_type": "execute_result"
    }
   ],
   "source": [
    "''.join(generateID(7, 7))"
   ]
  },
  {
   "cell_type": "markdown",
   "id": "7b81d0b8-9b63-435d-bd4e-77a279ca8b4c",
   "metadata": {},
   "source": [
    "### Test"
   ]
  },
  {
   "cell_type": "code",
   "execution_count": 6,
   "id": "0f61213e-5548-4242-8b3c-24717e3530bf",
   "metadata": {
    "collapsed": true,
    "jupyter": {
     "outputs_hidden": true
    },
    "tags": []
   },
   "outputs": [
    {
     "name": "stdout",
     "output_type": "stream",
     "text": [
      "37IE851\n",
      "HJ4GEL8\n",
      "36ZHI89\n",
      "F2I4O89\n",
      "F604OL9\n",
      "607J8L5\n",
      "2ZJI9G5\n",
      "20G8L91\n",
      "27O4851\n",
      "F27HJO9\n",
      "37HJIO8\n",
      "36ZIOL1\n",
      "E3748G5\n",
      "F260485\n",
      "F27HO95\n",
      "F32I895\n",
      "JO8L951\n",
      "37HIG51\n",
      "36ZHO8L\n",
      "3ZJ4ELG\n",
      "F364OE5\n",
      "607I8LG\n",
      "26I4EL9\n",
      "EF6J89G\n",
      "6ZHI4O9\n",
      "6Z0HJI4\n",
      "32ZG951\n",
      "37OEL95\n",
      "3ZHJOE1\n",
      "F27IO91\n",
      "2Z07JG9\n",
      "36ZHJO4\n",
      "607OE85\n",
      "32I4L51\n",
      "F2IOEG5\n",
      "Z7JIO48\n",
      "F32JI95\n",
      "FZ7HI8L\n",
      "326JO49\n",
      "0HJ4L51\n",
      "F30JE91\n",
      "3260JOE\n",
      "320I8L5\n",
      "F26ZH81\n",
      "67IO48L\n",
      "F7JOL91\n",
      "E37H891\n",
      "F2Z7JIL\n",
      "F207IE5\n",
      "F3Z4E95\n",
      "32ZJ4E5\n",
      "0JI48G1\n",
      "30G8L95\n",
      "F32JO8L\n",
      "37JOG89\n",
      "27O89G1\n",
      "F26JOL9\n",
      "F3J4E51\n",
      "6ZJIO95\n",
      "3748L95\n",
      "F0HIG89\n",
      "F67IOE5\n",
      "07H4895\n",
      "FZJOL9G\n",
      "2HJGE89\n",
      "674EL91\n",
      "674G951\n",
      "F2JI4G5\n",
      "360I481\n",
      "326Z04E\n",
      "32Z0951\n",
      "36Z0HJG\n",
      "F320J41\n",
      "F3HJ4O8\n",
      "F20IO51\n",
      "F32Z075\n",
      "F30H8L1\n",
      "3ZI8G51\n",
      "36J9G51\n",
      "32ZH4L1\n",
      "F07H4L1\n",
      "HJO4EG1\n",
      "27JELG1\n",
      "F26OG51\n",
      "32IOG51\n",
      "6Z07EL8\n",
      "F3HI895\n",
      "E2748G1\n",
      "HJIE9G1\n",
      "36Z7HJ4\n",
      "6I48951\n",
      "F60HJO1\n",
      "F6Z0HJG\n",
      "7JIOL95\n",
      "F32Z74E\n",
      "FZO489G\n",
      "607J8L5\n",
      "F36HI48\n",
      "Z07HILG\n",
      "FZ7HJ95\n",
      "Z0H8LG1\n",
      "37HI8G1\n",
      "F32ZO41\n",
      "F67I4E9\n",
      "F6JIO8L\n",
      "F37H9G5\n",
      "F26J48G\n",
      "32Z0951\n",
      "ZH4G8L9\n",
      "EF27I8G\n",
      "Z7HOEL1\n",
      "27JI891\n",
      "36J4851\n",
      "26ZHI91\n",
      "26HJO48\n",
      "F30HI4O\n",
      "F36Z8LG\n",
      "2Z7H891\n",
      "327I8G1\n",
      "26Z7J51\n",
      "32Z0JIG\n",
      "EF24895\n",
      "260I495\n",
      "F320795\n",
      "6ZH8L91\n",
      "2J4ELG5\n",
      "EZ07HO8\n",
      "3IEL981\n",
      "Z0HJI95\n",
      "FZHIO8L\n",
      "F6Z7JIG\n",
      "07JI4E9\n",
      "FZHO895\n",
      "HJIO4LG\n",
      "3Z0HJ85\n",
      "32ZHIE5\n",
      "F207OG1\n",
      "Z7HOG51\n",
      "36HJOG1\n",
      "F3JIOEL\n",
      "FHIGL91\n",
      "F07I4L9\n",
      "367HO91\n",
      "2ZHIOL1\n",
      "EF32681\n",
      "FZO49G5\n",
      "F36Z7O5\n",
      "6Z0JO41\n",
      "2ZHJOE9\n",
      "EZ7J8L5\n",
      "6HJI4G9\n",
      "2J4GEL8\n",
      "326O8L9\n",
      "3Z0IO4L\n",
      "Z0HOG89\n",
      "30J4L91\n",
      "207JO91\n",
      "F27JIG1\n",
      "36ZI4O1\n",
      "07HJIOG\n",
      "27H4O8G\n",
      "6074891\n",
      "F3267H8\n",
      "3Z7HI48\n",
      "F368L9G\n",
      "Z07HOE8\n",
      "26IO8L1\n",
      "3HJO851\n",
      "F2HI4LG\n",
      "F32Z78G\n",
      "ZHI8L91\n",
      "E30H851\n",
      "F26HJE9\n",
      "HJIO4LG\n",
      "7HIO4G1\n",
      "F3Z7JE5\n",
      "E3JIO81\n",
      "32ZI4EG\n",
      "326Z7JL\n",
      "F27JIG1\n",
      "6LJ4OE8\n",
      "F26GEL9\n",
      "FHJIO49\n",
      "6Z7JO45\n",
      "26HJO45\n",
      "32604E9\n",
      "364OGL9\n",
      "F37I4E5\n",
      "F2Z7IL5\n",
      "Z0JEL51\n",
      "F60JE89\n",
      "E7I489G\n",
      "F0J4L91\n",
      "36ZJ4E1\n",
      "EH48LG5\n",
      "327IG51\n",
      "F2JIOG1\n",
      "6ZJ4OL9\n",
      "F2Z0951\n",
      "6HI4OE5\n",
      "F307HE1\n",
      "Z7HI4OL\n",
      "FZIEL51\n",
      "207J8L9\n",
      "32HJI91\n",
      "F2Z4E91\n",
      "6Z7JO45\n",
      "EFZI8L1\n",
      "HJIEL81\n",
      "EHI4851\n",
      "307JIO4\n",
      "324OLG1\n",
      "6HIELG1\n",
      "0JIOG89\n",
      "27HIG95\n",
      "Z0HJLG1\n",
      "F260J8L\n",
      "27JIE89\n",
      "32074L1\n",
      "F327JO1\n",
      "26Z0JE1\n",
      "Z7OE851\n",
      "F3IG8L9\n",
      "3204GL9\n",
      "26Z7HG5\n",
      "F2074L1\n",
      "F3248G1\n",
      "E37O8L9\n",
      "F3HJI89\n",
      "F3Z7JIO\n",
      "30I8951\n",
      "F27O48L\n",
      "07HIO8G\n",
      "260H4E5\n",
      "F36JOG5\n",
      "F36OL51\n",
      "F364O51\n",
      "367I491\n",
      "EF2J8G1\n",
      "2J4LG51\n",
      "F67HO85\n",
      "32Z7895\n",
      "2ZH4E81\n",
      "F60JI4E\n",
      "F32O8L5\n",
      "37JOL91\n",
      "FJO48G1\n",
      "20JOEG5\n",
      "F30E951\n",
      "3Z074E1\n",
      "F2H4O81\n",
      "6ZJ8951\n",
      "26Z7J81\n",
      "2JOGL95\n",
      "F2ZIO8L\n",
      "607JO51\n",
      "FZ0O4E1\n",
      "Z7JI4EG\n",
      "F0O4E91\n",
      "F27HJL1\n",
      "60HJIO5\n",
      "FZ0IE91\n",
      "F07JI4O\n",
      "F32J4EG\n",
      "67HJ951\n",
      "326IO4L\n",
      "3Z0O8G1\n",
      "37J4G51\n",
      "E2O48G1\n",
      "36ZIO4E\n",
      "EF3608G\n",
      "2Z0HIG1\n",
      "7HIO4EG\n",
      "6ZIGE95\n",
      "0H4G891\n",
      "20JEL9G\n",
      "I48L9G5\n",
      "F6Z7I4E\n",
      "36Z7HJL\n",
      "7HJO8L1\n",
      "F6ZHOL5\n",
      "360J4LG\n",
      "26HJELG\n",
      "36HJ4G5\n",
      "36I48G1\n",
      "F207OG1\n",
      "6J4OL51\n",
      "320JO4G\n",
      "ZH4L9G5\n",
      "367IG95\n",
      "F3HJ4L9\n",
      "F26ZLG1\n",
      "EZ7G895\n",
      "307OE81\n",
      "32IO489\n",
      "F6HJOEG\n",
      "F0HJI45\n",
      "0HJ4L51\n",
      "Z0IO4E8\n",
      "F32OEG1\n",
      "26Z7IO5\n",
      "27JOL51\n",
      "324E895\n",
      "6ZI4E91\n",
      "327H481\n",
      "F3Z7IO5\n",
      "F2IOL95\n",
      "2J4ELG5\n",
      "E320IO8\n",
      "F326895\n",
      "27HJE51\n",
      "F7JOEL9\n",
      "E3HI48L\n",
      "F307O41\n",
      "F2H48L5\n",
      "2HJ8L51\n",
      "ZJO4E85\n",
      "F360J49\n",
      "6HJIO8G\n",
      "F2JI4G5\n",
      "FZ07O85\n",
      "274EL95\n",
      "32JI4G5\n",
      "2Z0JLG1\n",
      "HO48L91\n",
      "30HO8LG\n",
      "E2O8LG1\n",
      "F3HOEL9\n",
      "07JO48G\n",
      "37HJIG1\n",
      "FZ4ELG5\n",
      "07IEL95\n",
      "Z07JI41\n",
      "7HJO4E5\n",
      "Z0JIOL1\n",
      "F20H495\n",
      "EZ7JG89\n",
      "EF67851\n",
      "F2HO4E5\n",
      "F6Z7I8G\n",
      "308L9G5\n",
      "F27HG91\n",
      "2604OL5\n",
      "F2HOGE9\n",
      "6HJIO8G\n",
      "37H4OL5\n",
      "F32JOL5\n",
      "20HO4G1\n",
      "E2H4891\n",
      "F0HO4EL\n",
      "6HIOG91\n",
      "32Z7J95\n",
      "3H48951\n",
      "F3604E1\n",
      "2HIO4E9\n",
      "2HI8LG1\n",
      "2Z7I4OL\n",
      "2IE9G51\n",
      "F20HJL9\n",
      "32ZE9G5\n",
      "30JELG1\n",
      "F32ZO4E\n",
      "F2JI8LG\n",
      "6HJIGL9\n",
      "37OL951\n",
      "Z0JIO8G\n",
      "F2HJO4E\n",
      "6Z0OL51\n",
      "30IOLG1\n",
      "260E951\n",
      "F26Z7G9\n",
      "32JIOG1\n",
      "6Z0HJ95\n",
      "27HIEL9\n",
      "Z7I4EG5\n",
      "HIGE951\n",
      "F6ZJO85\n",
      "20JO8G1\n",
      "F7H4OG9\n",
      "3J4OEL1\n",
      "327HJEL\n",
      "26ZHJOG\n",
      "F27I4E1\n",
      "327HEL5\n",
      "3Z748L5\n",
      "F326074\n",
      "F7JOG95\n",
      "Z07HILG\n",
      "07HO891\n",
      "20I4O8L\n",
      "37JIE81\n",
      "F3ZILG5\n",
      "F6HO489\n",
      "F6ZH4G1\n",
      "F26H951\n",
      "26Z0HEG\n",
      "260J851\n",
      "67HJ4LG\n",
      "2ZO8LG5\n",
      "32Z8L51\n",
      "3ZHI4G1\n",
      "HJO4G95\n",
      "Z7IOEL9\n",
      "FZ07O85\n",
      "E3HI48L\n",
      "2607O8G\n",
      "Z0JO4LG\n",
      "F30O4L5\n",
      "F32HO4L\n",
      "360JI4E\n",
      "2ZJIG95\n",
      "F6HOEG5\n",
      "F326J95\n",
      "F6ZIOL1\n",
      "FL07E85\n",
      "F3ZIOG1\n",
      "32648L1\n",
      "20GL951\n",
      "27JI951\n",
      "HOELG51\n",
      "307JO89\n",
      "F60I4E5\n",
      "6HJIOEL\n",
      "F2ZHOG1\n",
      "Z7J4E85\n",
      "F2ZJO89\n",
      "EFJI485\n",
      "32HIE89\n",
      "FZJ4OL5\n",
      "EF6Z789\n",
      "ZHI4891\n",
      "F32HJE8\n",
      "327O48L\n",
      "F2608L5\n",
      "F20H495\n",
      "2Z749G1\n",
      "6Z7JO8L\n",
      "F6J9G51\n",
      "F20IO81\n",
      "F36Z0HI\n",
      "3267O91\n",
      "367IG95\n",
      "FZ0HE95\n",
      "FZ0JOEG\n",
      "7I4G891\n",
      "F36Z7O5\n",
      "ZHJI8L5\n",
      "F27HJ8G\n",
      "F320JEL\n",
      "EJ48L51\n",
      "327JO4L\n",
      "FZI8L95\n",
      "F6JO895\n",
      "Z7JIO8L\n",
      "2Z4G8L9\n",
      "3Z0OE8G\n",
      "F27JE85\n",
      "F7J4EG5\n",
      "EF2H4O8\n",
      "F6IOEL9\n",
      "F67JI45\n",
      "3Z0HE95\n",
      "36Z7HO1\n",
      "364E951\n",
      "F360G51\n",
      "F264L51\n",
      "6HIOG91\n",
      "7I489G1\n",
      "6ZIE9G5\n",
      "F30I8L9\n",
      "360O4EG\n",
      "326J4G5\n",
      "32Z7JIL\n",
      "F3604E1\n",
      "F6EL951\n",
      "260748L\n",
      "F6Z0JE5\n",
      "F07I4EG\n",
      "F6Z7951\n",
      "Z7JEL91\n",
      "Z7IO485\n",
      "32ZHOL9\n",
      "F07H48G\n",
      "3260J48\n",
      "F6H8LG5\n",
      "F6ZJ495\n",
      "67JOEL1\n",
      "F36ZJ4G\n",
      "2HI48L9\n",
      "2Z7J4O9\n",
      "FZ7HI45\n",
      "6O4EL91\n",
      "6HI4G89\n",
      "F30HIO4\n",
      "F267EG5\n",
      "67HO4EG\n",
      "F26Z7L5\n",
      "F37H485\n",
      "F37HJO1\n",
      "HIO48LG\n",
      "32ZJI4O\n",
      "F3Z7HEL\n",
      "F2ZJ4E5\n",
      "37HE891\n",
      "E36H48L\n",
      "FZ7I891\n",
      "32JE8G1\n",
      "307JGE9\n",
      "607J491\n",
      "ZH4ELG1\n",
      "74O8LG1\n",
      "Z0HO8L5\n",
      "F2Z7895\n",
      "6ZH4E95\n",
      "F32OEL9\n",
      "3607JI9\n",
      "6JIE8G1\n",
      "07O4EL5\n",
      "F2HJOEL\n",
      "FZ07IOG\n",
      "36ZO4LG\n",
      "32ZOE51\n",
      "F6Z7891\n",
      "F30HG91\n",
      "326Z7G9\n",
      "320O48G\n",
      "26HO4E9\n",
      "F36LOE8\n",
      "F0JOEL5\n",
      "367IO51\n",
      "F267IOG\n",
      "27HO4EL\n",
      "26Z07H8\n",
      "2ZHJ8G1\n",
      "FL7OE89\n",
      "2ZHEL51\n",
      "ZHIL951\n",
      "32ZHJI1\n",
      "2Z7HJE9\n",
      "07HJ489\n",
      "6ZHI48G\n",
      "32ZHIE5\n",
      "30HO8LG\n",
      "F36Z0HI\n",
      "F267JG1\n",
      "F2ZH4L1\n",
      "60IO4EL\n",
      "36I4G51\n",
      "FHOE891\n",
      "3ZH9G51\n",
      "32HJI85\n",
      "E26J481\n",
      "307HJI1\n",
      "F32ZJI5\n",
      "EF3J481\n",
      "60IO4G5\n",
      "F26HI4E\n",
      "FJI4E85\n",
      "3HIOE8G\n",
      "F6JEL91\n",
      "F26OEG5\n",
      "Z7HI851\n",
      "07JIEG1\n",
      "367I89G\n",
      "07HJ4E1\n",
      "F67I8L5\n",
      "F6Z7I8G\n",
      "3O4EL51\n",
      "Z07IE9G\n",
      "360IEL5\n",
      "32IGEL9\n",
      "F3604E1\n",
      "F2Z0JE9\n",
      "F0OE89G\n",
      "360O4EG\n",
      "F326ZIG\n",
      "FHJI4EL\n",
      "F26ZOG9\n",
      "260I4E1\n",
      "F2HJ48L\n",
      "E2HO851\n",
      "07HIL9G\n",
      "367JI45\n",
      "F32JOG9\n",
      "2ZJI491\n",
      "F32ZHIL\n",
      "F20HOE9\n",
      "26Z7H4E\n",
      "26H4L95\n",
      "2ZHIO4E\n",
      "3Z0GL91\n",
      "J4GE951\n",
      "EF3Z8G1\n",
      "F30HJG5\n",
      "FL07E85\n",
      "F36ZH85\n",
      "E32JO85\n",
      "3267JG1\n",
      "F260HI5\n",
      "326ZJI9\n",
      "7IO8G51\n",
      "F7HJIEG\n",
      "F3O4LG5\n",
      "ZHJO48G\n",
      "F67IG95\n",
      "F36ZHJ5\n",
      "F6IOG89\n",
      "32IGEL9\n",
      "F26ZH81\n",
      "37HJE85\n",
      "FZ7HO4G\n",
      "7HJ4G89\n",
      "F6EL951\n",
      "20HIO89\n",
      "07HI4L5\n",
      "F26Z041\n",
      "E2H4891\n",
      "6IEL985\n",
      "F60IEL5\n",
      "E26IO8L\n",
      "607H4O1\n",
      "67HI481\n",
      "26ZHJI8\n",
      "36H4L51\n",
      "F32JELG\n",
      "60HJ851\n",
      "604O951\n",
      "F32ZJI5\n",
      "F26JI81\n",
      "3Z0HIG5\n",
      "67HOLG1\n",
      "F4GL951\n",
      "FZ0IO4L\n",
      "E2ZHO89\n",
      "26Z4E95\n",
      "F30O4G9\n",
      "F3ZG895\n",
      "6Z08L9G\n",
      "3HJI48G\n",
      "I4OGE89\n",
      "3267E8G\n",
      "F326I8L\n",
      "326HI4E\n",
      "20L9G51\n",
      "F0I48LG\n",
      "260OGL9\n",
      "F32Z075\n",
      "3ZIO4LG\n",
      "F6Z0I49\n",
      "F267E8G\n",
      "7H4EL95\n",
      "F3IOG91\n",
      "F3HOEG1\n",
      "F6Z0J51\n",
      "F3Z7J81\n",
      "07JIEG1\n",
      "F2H4EG1\n",
      "6ZHJEG1\n",
      "HJI8G51\n",
      "F60HJL5\n",
      "Z07HOE5\n",
      "307H8LG\n",
      "F326ZH4\n",
      "26ZHOL1\n",
      "F6JIO45\n",
      "FZ0J48G\n",
      "F0I4OL9\n",
      "ZO4E891\n",
      "F267HOL\n",
      "327HI4O\n",
      "FZIO891\n",
      "3Z748L5\n",
      "07HJOE9\n",
      "F2ZJGE9\n",
      "Z0J4895\n",
      "FH48951\n",
      "F27OGL9\n",
      "607ILG5\n",
      "2ZHJO91\n",
      "326Z0JG\n",
      "20J8LG5\n",
      "F60JIL1\n",
      "26ZI48G\n",
      "2ZJI485\n",
      "32Z7IG9\n",
      "F6ZI4G9\n",
      "FZHIELG\n",
      "2ZIEG51\n",
      "27JI951\n",
      "F3ZJEL9\n",
      "Z7JOE51\n",
      "260JIG1\n",
      "F27IO85\n",
      "F7HJ851\n",
      "E30JI89\n",
      "307HOL9\n",
      "0JEL951\n",
      "F6ZHLG1\n",
      "FZ0J4G5\n",
      "F07HJLG\n",
      "E048951\n",
      "F2HO451\n",
      "307JL51\n",
      "F2Z7IL5\n",
      "FZOG8L9\n",
      "3ZIEL51\n",
      "F264L51\n",
      "32Z0I8G\n",
      "F7HJE91\n",
      "2604O8L\n",
      "6HIGL95\n",
      "F3JI4O1\n",
      "2Z0I895\n",
      "F37HEL9\n",
      "F3267LG\n",
      "2JI4895\n",
      "32Z7HJO\n",
      "FJOLG51\n",
      "EFJI485\n",
      "E6ZHJO8\n",
      "6Z7JELG\n",
      "F07JOE1\n",
      "2J4LG51\n",
      "F27JI49\n",
      "F608951\n",
      "26IOL51\n",
      "26J4E81\n",
      "3HIO495\n",
      "67J8LG5\n",
      "F37OLG1\n",
      "2ZHJ489\n",
      "F30I8L9\n",
      "26ZJOE5\n",
      "0JIO8L5\n",
      "6ZHI4EL\n",
      "360IO95\n",
      "F36HI45\n",
      "F3ZI4EL\n",
      "36HO4E1\n",
      "F60I481\n",
      "326HI8G\n",
      "30HJIO1\n",
      "26ZHJ4L\n",
      "07HI4OE\n",
      "F3H4EG5\n",
      "60JO4E9\n",
      "30HE851\n",
      "ZHIE8G1\n",
      "F30J851\n",
      "3264GE9\n",
      "6ZHIOG1\n",
      "F67HG51\n",
      "F3HJ4EG\n",
      "327HIO4\n",
      "3260491\n",
      "32607E8\n",
      "2Z0JO45\n",
      "F607I89\n",
      "3ZO8L9G\n",
      "36ZHI89\n",
      "E3H8L95\n",
      "EZ7J8L5\n",
      "F2ZJI4O\n",
      "27I8951\n",
      "26H4G51\n",
      "F37IOE1\n",
      "F20IEG1\n",
      "F20HO91\n",
      "ZIO4EL1\n",
      "6Z4OEL1\n",
      "26HIO4G\n",
      "F2Z7IO1\n",
      "2Z74L51\n",
      "F2Z04LG\n",
      "326J4G5\n",
      "F6ZH4O8\n",
      "F3ZJL91\n",
      "F2JI4EL\n",
      "3HIO8G1\n",
      "32Z7IOE\n",
      "EF6HO8G\n",
      "7HOEL85\n",
      "FZ07489\n",
      "F2Z074O\n",
      "260HIOL\n",
      "F07I4EG\n",
      "F6ZHO8L\n",
      "FO4EL51\n",
      "FZ0L9G1\n",
      "207J8L9\n",
      "F264GE9\n",
      "2Z048L9\n",
      "F260J45\n",
      "27HI491\n",
      "F327O81\n",
      "L0E8951\n",
      "267I481\n",
      "20IE951\n",
      "FZHOE81\n",
      "F3JE8G5\n",
      "36H4O95\n",
      "26HI4OG\n",
      "F3I4L91\n",
      "F32Z741\n",
      "6Z7JELG\n",
      "F3L7IE8\n",
      "3Z048L1\n",
      "6O4EL85\n",
      "E36Z8G5\n",
      "F3ZOE85\n",
      "F2ZHO49\n",
      "6IO4LG1\n",
      "F3J8G51\n",
      "2ZOGL91\n",
      "2607OL1\n",
      "3207J4G\n",
      "F3260H1\n",
      "326O489\n",
      "F36IE89\n",
      "F36JI85\n",
      "27HI9G5\n",
      "8Z7EL91\n",
      "F264EL8\n",
      "327O49G\n",
      "F74EL51\n",
      "2ZHJO85\n",
      "307JG91\n",
      "32Z04LG\n",
      "367H495\n",
      "F7O8L91\n",
      "26HOG95\n",
      "20HJIG5\n",
      "26H4O91\n",
      "EZ08L51\n",
      "F2HJ4OE\n",
      "HJIO951\n",
      "F60O4EG\n",
      "F67JI45\n",
      "F67HJL9\n",
      "3Z7O8L1\n",
      "36HOG51\n",
      "327HGE9\n",
      "E324895\n",
      "6Z7JI89\n",
      "6JO8LG5\n",
      "EHJI8L1\n",
      "207I4O1\n",
      "F36OE9G\n",
      "F26OL95\n",
      "36Z7IO9\n",
      "36ZJI4L\n",
      "2HJO895\n",
      "3HI4G91\n",
      "6ZL0OE8\n",
      "267HJOE\n",
      "3607H81\n",
      "ZJ4OE91\n",
      "Z0HJ4EG\n",
      "6O4G951\n",
      "37HIEG5\n",
      "36Z8L95\n",
      "LHIE851\n",
      "E360I8L\n",
      "36IOG95\n",
      "E320H8G\n",
      "36ZO951\n",
      "F30HJ4E\n",
      "307JO95\n",
      "F3LIOE8\n",
      "F32OG89\n",
      "36Z7J91\n",
      "F37HI4G\n",
      "F36ZLG5\n",
      "F7JLG51\n",
      "FZ7O4E5\n",
      "6HJ4895\n",
      "F32OEL9\n",
      "Z0JOE95\n",
      "F3ZJOE5\n",
      "Z0HIE51\n",
      "Z0HJ4EG\n",
      "F3Z0J95\n",
      "FJIOE51\n",
      "F2HJI91\n",
      "F32ZH95\n",
      "6L7J4E8\n",
      "07HI4L5\n",
      "F3Z7H8G\n",
      "60J4O85\n",
      "JI4ELG1\n",
      "307HO49\n",
      "6HJ4895\n",
      "6Z4GL91\n",
      "F07G951\n",
      "207I4L5\n",
      "7H4E8G1\n",
      "3Z07G51\n",
      "2Z7HI41\n",
      "Z07HO81\n",
      "32Z0I4E\n",
      "326J4G5\n",
      "3Z0HJE9\n",
      "E0I8LG5\n",
      "F364O51\n",
      "FZ074E1\n",
      "32HJGL9\n",
      "Z7HJOL9\n",
      "F26O495\n",
      "27JI951\n",
      "30J4EL9\n",
      "FZ7JIE9\n",
      "6Z07JO9\n",
      "307J481\n",
      "2O4EG51\n",
      "HJI4E51\n",
      "F2O4LG1\n",
      "FO4EL51\n",
      "F6I4EG5\n",
      "3260JG9\n",
      "6JO4GE9\n",
      "EF2HO8L\n",
      "267H485\n",
      "3ZHEL85\n",
      "E6I8G51\n",
      "FZHJ481\n",
      "27J4EG1\n",
      "FZ074E1\n",
      "37JOEL9\n",
      "F207HE9\n",
      "F367481\n",
      "E3ZI8G5\n",
      "F2ZHJ4G\n",
      "EF3J481\n",
      "F27HL51\n",
      "67JO8L9\n",
      "F326I8L\n",
      "3ZHEL91\n",
      "3ZHIO45\n",
      "2HJI4G1\n",
      "37JIO4G\n",
      "F2IO8G1\n",
      "Z7HJOEG\n",
      "267IG91\n",
      "ZJIO4G1\n",
      "67HO4L9\n",
      "60JO9G5\n",
      "26ZEL95\n",
      "36JI4L9\n",
      "260HO95\n",
      "32Z7HJO\n",
      "F26ZI89\n",
      "F267G51\n",
      "27JELG1\n",
      "F36ZJI1\n",
      "F07HJI1\n",
      "Z7IOEL9\n",
      "3608951\n",
      "3ZJIO91\n",
      "F6Z7HOE\n",
      "F32JO48\n",
      "67HJ891\n",
      "F26JOL9\n",
      "F74EL81\n",
      "6Z07J41\n",
      "20HOELG\n",
      "207HI89\n",
      "2ZJIEL9\n",
      "6Z0JOEL\n",
      "Z7IO485\n",
      "30J489G\n",
      "F30J851\n",
      "2ZHEL51\n",
      "26IO8G5\n",
      "FZ0HI4E\n",
      "26Z7JIO\n",
      "FHI8LG5\n",
      "26Z7H41\n",
      "2J4ELG5\n",
      "67H48LG\n",
      "37JO491\n",
      "37JO4E9\n",
      "3604LG5\n",
      "27HJI48\n",
      "326ZH81\n",
      "Z0IOG91\n",
      "F6ZH4L9\n",
      "260HJ8G\n",
      "36HGL91\n",
      "26HOEG1\n",
      "F4GL951\n",
      "267IL51\n",
      "F7I4O8G\n",
      "F26ZHJ1\n",
      "F0JIE95\n",
      "207IOL1\n",
      "3ZJI495\n",
      "Z7IOL91\n",
      "0H489G1\n",
      "67HI481\n",
      "FZ7O4E5\n"
     ]
    }
   ],
   "source": [
    "for i in range(1000):\n",
    "    print(''.join(generateID(7,7)))"
   ]
  },
  {
   "cell_type": "markdown",
   "id": "58acaa85-2cd7-40df-99b2-e6d710197e71",
   "metadata": {
    "tags": []
   },
   "source": [
    "# Generate PAYG Token"
   ]
  },
  {
   "cell_type": "markdown",
   "id": "0a3734b9-e67f-4e62-8c83-5aa1d0b940c8",
   "metadata": {
    "jp-MarkdownHeadingCollapsed": true,
    "tags": []
   },
   "source": [
    "### Aux"
   ]
  },
  {
   "cell_type": "markdown",
   "id": "b889e221-6cb1-4bd6-9312-254c3651dfff",
   "metadata": {
    "tags": []
   },
   "source": [
    "<b>Helper Modules </b>"
   ]
  },
  {
   "cell_type": "code",
   "execution_count": 7,
   "id": "394198da-4047-4cb6-b512-b222f722085a",
   "metadata": {
    "jupyter": {
     "source_hidden": true
    },
    "tags": []
   },
   "outputs": [],
   "source": [
    "def findModuloAt(n, equals):\n",
    "    for i in range(1, n+1):\n",
    "        if (n%i == equals):\n",
    "            return i"
   ]
  },
  {
   "cell_type": "code",
   "execution_count": 8,
   "id": "7ad2b9b6-d7b4-4bbc-a55a-501c8de82132",
   "metadata": {
    "tags": []
   },
   "outputs": [
    {
     "data": {
      "text/plain": [
       "18"
      ]
     },
     "execution_count": 8,
     "metadata": {},
     "output_type": "execute_result"
    }
   ],
   "source": [
    "findModuloAt(179, 17)"
   ]
  },
  {
   "cell_type": "code",
   "execution_count": 9,
   "id": "43a3b97a-0eaf-4225-afe0-7e22bdf8bdde",
   "metadata": {
    "tags": []
   },
   "outputs": [
    {
     "name": "stdout",
     "output_type": "stream",
     "text": [
      "179 161 143 125 107 89 71 53 35 17 "
     ]
    }
   ],
   "source": [
    "for i in range(180, 1, -1):\n",
    "    if (i%18 == 17):\n",
    "        print(i, end = \" \")"
   ]
  },
  {
   "cell_type": "markdown",
   "id": "ffa7ff78-0ce7-497f-a866-d1ff3c010453",
   "metadata": {
    "tags": []
   },
   "source": [
    "## cd_matrix"
   ]
  },
  {
   "cell_type": "code",
   "execution_count": 10,
   "id": "727555be-2359-4b4e-83a1-72579b17263a",
   "metadata": {
    "tags": []
   },
   "outputs": [],
   "source": [
    "# count the cd_matrix size for combination of them in twos.\n",
    "def cd_Matrix(ID:str = 'JZL83H5'):\n",
    "    \n",
    "    literals = (\n",
    "        #numerals...\n",
    "        '5', '6', '7', '1', '2', '4', '9', '3', '0', '8', \n",
    "    \n",
    "        #alphabets...\n",
    "        'I', 'O', 'E', 'H', 'L', 'Z', 'F', 'G', 'J', 'B', 'A', 'S', 'P',\n",
    "        'R', 'D', 'X', 'W', 'Q', 'K', 'V', 'N', 'C', 'M', 'Y', 'T', 'U'\n",
    "    )\n",
    "    \n",
    "    from itertools import combinations\n",
    "    cd_matrix = set()\n",
    "    \n",
    "    combination = combinations(list(ID), 5)\n",
    "    for i in combination:\n",
    "        cd_matrix.add(literals[sum([literals.index(ii) for ii in i]) % 36 ])    \n",
    "\n",
    "    return cd_matrix"
   ]
  },
  {
   "cell_type": "code",
   "execution_count": 11,
   "id": "ccc34ce8-4d5d-4436-8d38-93e36e872e02",
   "metadata": {
    "tags": []
   },
   "outputs": [
    {
     "data": {
      "text/plain": [
       "19"
      ]
     },
     "execution_count": 11,
     "metadata": {},
     "output_type": "execute_result"
    }
   ],
   "source": [
    "len(cd_Matrix())"
   ]
  },
  {
   "cell_type": "markdown",
   "id": "50677e56-3298-4c34-9781-df88420a9f8a",
   "metadata": {
    "tags": []
   },
   "source": [
    "\n",
    "## generate function"
   ]
  },
  {
   "cell_type": "markdown",
   "id": "f5a2c3e4-b7ab-4f86-ac8a-71df95f34279",
   "metadata": {},
   "source": [
    "<b> `generateA13Unit(count=5, ID=\"45E3I1Z\", digitSum=17, modulo=18)` </b>"
   ]
  },
  {
   "cell_type": "code",
   "execution_count": 12,
   "id": "7b85f0d2-5654-448b-b771-699295b88bbf",
   "metadata": {
    "tags": []
   },
   "outputs": [],
   "source": [
    "def generateA13Unit(count=5, ID=\"45E3I1Z\", digitSum=17, modulo=18):\n",
    "    \"\"\"\n",
    "        ARGUMENTS:\n",
    "        count: the word should be how many literals long?\n",
    "        digitSum: the literals should add up to what value \n",
    "        modulo: how should the digitSum check be perfomed?\n",
    "        \n",
    "        RETURNS:\n",
    "        returns a word of the specified features.\n",
    "    \"\"\"\n",
    "    literals = (\n",
    "        #numerals...\n",
    "        '5', '6', '7', '1', '2', '4', '9', '3', '0', '8', \n",
    "    \n",
    "        #alphabets...\n",
    "        'I', 'O', 'E', 'H', 'L', 'Z', 'F', 'G', 'J', 'B', 'A', 'S', 'P',\n",
    "        'R', 'D', 'X', 'W', 'Q', 'K', 'V', 'N', 'C', 'M', 'Y', 'T', 'U'\n",
    "    )\n",
    "    \n",
    "    ds = 0\n",
    "    ids = list(ID)\n",
    "    from random import randint\n",
    "    aunit = list()\n",
    "    \n",
    "    while (True):\n",
    "        if (len(aunit) == 2):\n",
    "            key = randint(0, len(ids)-1)\n",
    "            aunit.append(ids[key])\n",
    "            ds += literals.index(ids[key])\n",
    "            continue\n",
    "            \n",
    "        key = randint(0, 35)     \n",
    "        aunit.append(literals[key])\n",
    "        ds += key\n",
    "        \n",
    "        #test for the equality condition.\n",
    "        if (len(aunit) == count):            \n",
    "            if (ds%modulo != digitSum):\n",
    "                aunit = list()\n",
    "                ds = 0\n",
    "            else:\n",
    "                break\n",
    "    return ''.join(aunit)"
   ]
  },
  {
   "cell_type": "code",
   "execution_count": 13,
   "id": "17b48124-8bc7-4a40-8c4a-acb51c399d4a",
   "metadata": {
    "tags": []
   },
   "outputs": [
    {
     "name": "stdout",
     "output_type": "stream",
     "text": [
      "5HZKZ\n"
     ]
    }
   ],
   "source": [
    "unit = generateA13Unit()\n",
    "print(''.join(unit))"
   ]
  },
  {
   "cell_type": "code",
   "execution_count": 14,
   "id": "68bed190-4001-482a-9dde-b749749689f8",
   "metadata": {
    "tags": []
   },
   "outputs": [
    {
     "data": {
      "text/plain": [
       "'5HZKZ'"
      ]
     },
     "execution_count": 14,
     "metadata": {},
     "output_type": "execute_result"
    }
   ],
   "source": [
    "unit"
   ]
  },
  {
   "cell_type": "code",
   "execution_count": 15,
   "id": "060a4eb3-a410-4edb-b4b6-65e2f98cd17c",
   "metadata": {
    "tags": []
   },
   "outputs": [
    {
     "data": {
      "text/plain": [
       "17"
      ]
     },
     "execution_count": 15,
     "metadata": {},
     "output_type": "execute_result"
    }
   ],
   "source": [
    "89%18"
   ]
  },
  {
   "cell_type": "markdown",
   "id": "277ec9c9-380c-45b8-85e2-6ce7a41b06c0",
   "metadata": {},
   "source": [
    "<b> `toBase36(number)` </b>"
   ]
  },
  {
   "cell_type": "code",
   "execution_count": 16,
   "id": "21273a50-bb9b-46fa-a88f-b72ccb42457f",
   "metadata": {
    "tags": []
   },
   "outputs": [],
   "source": [
    "def toBase36(number):\n",
    "    \"\"\"\n",
    "    This function takes any number and converts to base 36.\n",
    "    \"\"\"\n",
    "    base36Literals = (\n",
    "        #numerals...\n",
    "        '5', '6', '7', '1', '2', '4', '9', '3', '0', '8', \n",
    "    \n",
    "        #alphabets...\n",
    "        'I', 'O', 'E', 'H', 'L', 'Z', 'F', 'G', 'J', 'B', 'A', 'S', 'P',\n",
    "        'R', 'D', 'X', 'W', 'Q', 'K', 'V', 'N', 'C', 'M', 'Y', 'T', 'U'\n",
    "    )\n",
    "    \n",
    "    base36 = list();\n",
    "    \n",
    "    reminder = 0\n",
    "    current = number\n",
    "    \n",
    "    while(True):\n",
    "        reminder = current%36\n",
    "        current = current//36\n",
    "        base36.append(base36Literals[reminder])\n",
    "        if (current < 36):\n",
    "            base36.append(base36Literals[current])\n",
    "            break\n",
    "    \n",
    "    return ''.join(base36[::-1])"
   ]
  },
  {
   "cell_type": "markdown",
   "id": "17a65732-70ca-4c84-845f-9eb78854a828",
   "metadata": {},
   "source": [
    "<b> `generateA4Unit(numberOfDays, ID)` </b>"
   ]
  },
  {
   "cell_type": "code",
   "execution_count": 17,
   "id": "9eb85323-3082-498a-bc9f-bc9b873beb05",
   "metadata": {
    "tags": []
   },
   "outputs": [],
   "source": [
    "def generateA4Unit(numberOfDaysGiven, ID=\"45E3I1Z\"):\n",
    "    \n",
    "    length = 6\n",
    "    a4unit = list()\n",
    "    c=list(); d=list();\n",
    "    cd_matrix = list(cd_Matrix(ID))\n",
    "    keys = set()\n",
    "    \n",
    "    from random import randint\n",
    "    while (len(keys) != 4):\n",
    "        keys.add(randint(0, len(cd_matrix)-1))\n",
    "    \n",
    "    keys = list(keys)\n",
    "    c += cd_matrix[keys[0]]; c += cd_matrix[keys[1]]; c = ''.join(c)\n",
    "    d += cd_matrix[keys[2]]; d += cd_matrix[keys[3]]; d = ''.join(d)\n",
    "    \n",
    "    a = toBase36(numberOfDaysGiven)\n",
    "    \n",
    "    return f\"{c}{a}{d}\"\n",
    "    "
   ]
  },
  {
   "cell_type": "markdown",
   "id": "139922b3-0303-44a0-9052-1c5ce64d8a7a",
   "metadata": {},
   "source": [
    "<b><i> tests... </i></b>"
   ]
  },
  {
   "cell_type": "code",
   "execution_count": 18,
   "id": "fa10798d-46fb-4b3d-ac0d-9b510e8cfb2a",
   "metadata": {
    "tags": []
   },
   "outputs": [
    {
     "data": {
      "text/plain": [
       "'6Y7KTN'"
      ]
     },
     "execution_count": 18,
     "metadata": {},
     "output_type": "execute_result"
    }
   ],
   "source": [
    "generateA4Unit(100)"
   ]
  },
  {
   "cell_type": "code",
   "execution_count": 19,
   "id": "a4cde071-dd68-4ac1-9a95-691e39c4ae51",
   "metadata": {
    "tags": []
   },
   "outputs": [
    {
     "data": {
      "text/plain": [
       "'5I'"
      ]
     },
     "execution_count": 19,
     "metadata": {},
     "output_type": "execute_result"
    }
   ],
   "source": [
    "toBase36(10)"
   ]
  },
  {
   "cell_type": "markdown",
   "id": "2ef5041b-80a2-4a5e-9aa2-5082e9556cc2",
   "metadata": {
    "tags": []
   },
   "source": [
    "<b> `generateA5Unit(ID)` </b>"
   ]
  },
  {
   "cell_type": "code",
   "execution_count": 20,
   "id": "4f809396-555e-4e8c-81f7-6c2308bb623f",
   "metadata": {
    "tags": []
   },
   "outputs": [
    {
     "data": {
      "text/plain": [
       "'35'"
      ]
     },
     "execution_count": 20,
     "metadata": {},
     "output_type": "execute_result"
    }
   ],
   "source": [
    "252%63\n",
    "toBase36(252)"
   ]
  },
  {
   "cell_type": "code",
   "execution_count": 21,
   "id": "7de9282b-c748-4d47-b569-152059ff7069",
   "metadata": {
    "tags": []
   },
   "outputs": [],
   "source": [
    "def generateA5Unit(ID):\n",
    "    literals = (\n",
    "        #numerals...\n",
    "        '5', '6', '7', '1', '2', '4', '9', '3', '0', '8', \n",
    "    \n",
    "        #alphabets...\n",
    "        'I', 'O', 'E', 'H', 'L', 'Z', 'F', 'G', 'J', 'B', 'A', 'S', 'P',\n",
    "        'R', 'D', 'X', 'W', 'Q', 'K', 'V', 'N', 'C', 'M', 'Y', 'T', 'U'\n",
    "    )\n",
    "    ds = 0\n",
    "    for i in ID:\n",
    "        ds += literals.index(i)\n",
    "        \n",
    "    return toBase36(ds)"
   ]
  },
  {
   "cell_type": "code",
   "execution_count": 22,
   "id": "3a7ead3e-c927-4bfb-8b5f-5ace829d15fe",
   "metadata": {
    "tags": []
   },
   "outputs": [],
   "source": [
    "def isValidID(ID):\n",
    "    literals = (\n",
    "        #numerals...\n",
    "        '5', '6', '7', '1', '2', '4', '9', '3', '0', '8', \n",
    "    \n",
    "        #alphabets...\n",
    "        'I', 'O', 'E', 'H', 'L', 'Z', 'F', 'G', 'J', 'B', 'A', 'S', 'P',\n",
    "        'R', 'D', 'X', 'W', 'Q', 'K', 'V', 'N', 'C', 'M', 'Y', 'T', 'U'\n",
    "    )\n",
    "    \n",
    "    ds = 0\n",
    "    valid = True\n",
    "    if len(ID) != 7:\n",
    "        return False\n",
    "    for char in ID:\n",
    "        if char not in literals:\n",
    "            valid = False\n",
    "            break\n",
    "        ds += literals.index(char)\n",
    "    if (ds%9 != 7):\n",
    "        valid = False\n",
    "    \n",
    "    return valid"
   ]
  },
  {
   "cell_type": "code",
   "execution_count": 23,
   "id": "23324d65-14aa-468e-810e-6a6483a01040",
   "metadata": {
    "tags": []
   },
   "outputs": [
    {
     "data": {
      "text/plain": [
       "True"
      ]
     },
     "execution_count": 23,
     "metadata": {},
     "output_type": "execute_result"
    }
   ],
   "source": [
    "isValidID('OL143G2')"
   ]
  },
  {
   "cell_type": "code",
   "execution_count": 24,
   "id": "729dc4fe-8136-4976-bd78-1d3d00036cdd",
   "metadata": {
    "tags": []
   },
   "outputs": [],
   "source": [
    "def generatePAYGToken(numberOfDays, ID):\n",
    "    if isValidID(ID): \n",
    "        return f\"{generateA13Unit(5, ID)}-{generateA13Unit(5, ID, 13)}-{generateA13Unit(5, ID, 3, 9)}-{generateA4Unit(numberOfDays, ID)}-{generateA5Unit(ID)}\"\n",
    "    else:\n",
    "        return f\"Not a registered User. (UserID: {ID} not in our system)\""
   ]
  },
  {
   "cell_type": "markdown",
   "id": "4652eabd-e787-4abc-aaed-b75ec3b61f9b",
   "metadata": {
    "tags": []
   },
   "source": [
    "### generatePAYGToken(NOD, ID)"
   ]
  },
  {
   "cell_type": "code",
   "execution_count": 38,
   "id": "4673409b-3521-4e0c-9091-dc0f737e4874",
   "metadata": {
    "tags": []
   },
   "outputs": [
    {
     "data": {
      "text/plain": [
       "'Not a registered User. (UserID: ADF8960 not in our system)'"
      ]
     },
     "execution_count": 38,
     "metadata": {},
     "output_type": "execute_result"
    }
   ],
   "source": [
    "ID = 'ADF8960'\n",
    "noOfDays = 67\n",
    "generatePAYGToken(noOfDays,ID)"
   ]
  },
  {
   "cell_type": "code",
   "execution_count": 41,
   "id": "8395f9a9-eebe-42a7-a1c6-e00326a502df",
   "metadata": {
    "tags": []
   },
   "outputs": [
    {
     "data": {
      "text/plain": [
       "'SM10X-YW18M-JY7JH-QM6CSN-63'"
      ]
     },
     "execution_count": 41,
     "metadata": {},
     "output_type": "execute_result"
    }
   ],
   "source": [
    "ID = '37IE851'\n",
    "noDays = 67\n",
    "generatePAYGToken(noDays, ID)"
   ]
  },
  {
   "cell_type": "markdown",
   "id": "ab999419-5385-4b68-9395-e726b8ff5283",
   "metadata": {
    "tags": []
   },
   "source": [
    "# Generate Green Token"
   ]
  },
  {
   "cell_type": "markdown",
   "id": "d0de04d4-7b87-4a91-a6b5-291deee70195",
   "metadata": {},
   "source": [
    "Generally of the format:\n",
    "> <b>XXXXXXX(7) - XXXXX(5) - XXX(3) - XX(2)</b>"
   ]
  },
  {
   "cell_type": "markdown",
   "id": "d5103b14-7d88-4f21-89b7-d85afc989e76",
   "metadata": {
    "tags": []
   },
   "source": [
    "## generateGreenA1(ID)"
   ]
  },
  {
   "cell_type": "code",
   "execution_count": 26,
   "id": "0d5ded1b-b78c-499a-80a2-fed9264e55b0",
   "metadata": {
    "tags": []
   },
   "outputs": [],
   "source": [
    "def generateGreenA1(ID):\n",
    "    \n",
    "    literals = (\n",
    "        #numerals...\n",
    "        '5', '6', '7', '1', '2', '4', '9', '3', '0', '8', \n",
    "    \n",
    "        #alphabets...\n",
    "        'I', 'O', 'E', 'H', 'L', 'Z', 'F', 'G', 'J', 'B', 'A', 'S', 'P',\n",
    "        'R', 'D', 'X', 'W', 'Q', 'K', 'V', 'N', 'C', 'M', 'Y', 'T', 'U'\n",
    "    )\n",
    "    \n",
    "    token = ''; m = ''; n = ''; f = ''\n",
    "    cd_matrix = list(cd_Matrix(ID))\n",
    "    skeys = set()\n",
    "    from random import randint    \n",
    "    keys = randint(0, 35)\n",
    "    \n",
    "    while (True):\n",
    "        #generate mid part\n",
    "        while (len(skeys) != 3):\n",
    "            skeys.add(randint(0, len(cd_matrix)-1))\n",
    "        m = ''.join([cd_matrix[i] for i in skeys])\n",
    "        \n",
    "        #generate first 2\n",
    "        skeys = set()\n",
    "        while (len(skeys) != 2):\n",
    "            skeys.add(randint(0, 35))\n",
    "        n = ''.join([literals[i] for i in skeys])\n",
    "                      \n",
    "        #generate last 2\n",
    "        skeys = set()\n",
    "        while (len(skeys) != 2):\n",
    "            skeys.add(randint(0, 35))\n",
    "        f = ''.join([literals[i] for i in skeys])  \n",
    "                      \n",
    "        #check...\n",
    "        token = f'{n}{m}{f}'\n",
    "        ds = 0\n",
    "        for t in token:\n",
    "            ds += literals.index(t)\n",
    "        \n",
    "        if (ds%45 == 37):\n",
    "            break\n",
    "        else:\n",
    "            token = ''\n",
    "            skeys = set()\n",
    "    \n",
    "    return token"
   ]
  },
  {
   "cell_type": "markdown",
   "id": "ab818fe6-cb27-467c-a93e-0331d9a40094",
   "metadata": {
    "tags": []
   },
   "source": [
    "## generateGreenA2(ID)"
   ]
  },
  {
   "cell_type": "code",
   "execution_count": 27,
   "id": "d9de10db-5fd9-4dcf-b1db-403d14148b22",
   "metadata": {
    "tags": []
   },
   "outputs": [],
   "source": [
    "def generateGreenA2(ID):\n",
    "    \n",
    "    literals = (\n",
    "        #numerals...\n",
    "        '5', '6', '7', '1', '2', '4', '9', '3', '0', '8', \n",
    "    \n",
    "        #alphabets...\n",
    "        'I', 'O', 'E', 'H', 'L', 'Z', 'F', 'G', 'J', 'B', 'A', 'S', 'P',\n",
    "        'R', 'D', 'X', 'W', 'Q', 'K', 'V', 'N', 'C', 'M', 'Y', 'T', 'U'\n",
    "    )\n",
    "    \n",
    "    token = ''; m = '';\n",
    "    ids = list(ID)\n",
    "    keys = set()\n",
    "    \n",
    "    from random import randint    \n",
    "    \n",
    "    while (True):\n",
    "        #generate mid part\n",
    "        while (len(keys) != 3):\n",
    "            keys.add(randint(0, len(ids)-1))\n",
    "        m = ''.join([ids[i] for i in keys])  \n",
    "                      \n",
    "        #token...\n",
    "        token = f'{literals[randint(0,35)]}{m}{literals[randint(0,35)]}'\n",
    "        ds = 0\n",
    "        for t in token:\n",
    "            ds += literals.index(t)\n",
    "        \n",
    "        if (ds%27 == 23):\n",
    "            break\n",
    "        else:\n",
    "            token = ''\n",
    "            keys = set()\n",
    "    return token"
   ]
  },
  {
   "cell_type": "code",
   "execution_count": 28,
   "id": "638f563f-4011-4e42-bfff-24054a9534c8",
   "metadata": {
    "tags": []
   },
   "outputs": [
    {
     "data": {
      "text/plain": [
       "'ADF08'"
      ]
     },
     "execution_count": 28,
     "metadata": {},
     "output_type": "execute_result"
    }
   ],
   "source": [
    "generateGreenA2(ID)"
   ]
  },
  {
   "cell_type": "markdown",
   "id": "55b233f7-6c5f-43a9-8158-e4769dbc1b97",
   "metadata": {
    "tags": []
   },
   "source": [
    "## generateGreenA3(totalNoOfDays)"
   ]
  },
  {
   "cell_type": "code",
   "execution_count": 29,
   "id": "aa200e5d-461c-478d-b7f4-5a443a6e80a5",
   "metadata": {
    "tags": []
   },
   "outputs": [],
   "source": [
    "def generateGreenA3(totalNoOfDays):\n",
    "    return toBase36(totalNoOfDays).rjust(3, '5')"
   ]
  },
  {
   "cell_type": "code",
   "execution_count": 30,
   "id": "6bc1f055-0c5b-4fb8-a941-7b778605cb72",
   "metadata": {
    "tags": []
   },
   "outputs": [
    {
     "data": {
      "text/plain": [
       "'5I4'"
      ]
     },
     "execution_count": 30,
     "metadata": {},
     "output_type": "execute_result"
    }
   ],
   "source": [
    "generateGreenA3(365)"
   ]
  },
  {
   "cell_type": "markdown",
   "id": "4b4b74d7-2e9a-4b18-a43e-857561aa5ba7",
   "metadata": {},
   "source": [
    "## generateGreenA4(ID)"
   ]
  },
  {
   "cell_type": "code",
   "execution_count": 31,
   "id": "06231c81-86a1-4e92-b89a-8f53389d7f3b",
   "metadata": {
    "tags": []
   },
   "outputs": [],
   "source": [
    "def generateGreenA4(ID):\n",
    "    literals = (\n",
    "        #numerals...\n",
    "        '5', '6', '7', '1', '2', '4', '9', '3', '0', '8', \n",
    "    \n",
    "        #alphabets...\n",
    "        'I', 'O', 'E', 'H', 'L', 'Z', 'F', 'G', 'J', 'B', 'A', 'S', 'P',\n",
    "        'R', 'D', 'X', 'W', 'Q', 'K', 'V', 'N', 'C', 'M', 'Y', 'T', 'U'\n",
    "    )\n",
    "    ds = 0\n",
    "    for i in ID:\n",
    "        ds += literals.index(i)\n",
    "    return toBase36(ds)"
   ]
  },
  {
   "cell_type": "code",
   "execution_count": 32,
   "id": "1f85a653-ca01-419e-a23c-09dde3b6f8f1",
   "metadata": {
    "tags": []
   },
   "outputs": [
    {
     "data": {
      "text/plain": [
       "'7E'"
      ]
     },
     "execution_count": 32,
     "metadata": {},
     "output_type": "execute_result"
    }
   ],
   "source": [
    "generateGreenA4(ID)"
   ]
  },
  {
   "cell_type": "markdown",
   "id": "c86e7977-8178-45a4-86a9-18005aafcd5c",
   "metadata": {},
   "source": [
    "## generateGreenToken(totalNoOfDays, ID)"
   ]
  },
  {
   "cell_type": "code",
   "execution_count": 33,
   "id": "3701d638-b5f1-4597-bb85-23a9921cf5c4",
   "metadata": {
    "tags": []
   },
   "outputs": [],
   "source": [
    "def generateGreenToken(totalNoOfDays, ID):\n",
    "    if (isValidID(ID)):\n",
    "        return f\"{generateGreenA1(ID)}-{generateGreenA2(ID)}-{generateGreenA3(totalNoOfDays)}-{generateGreenA4(ID)}\"\n",
    "    else:\n",
    "        return \"Invalid ID ({ID})\""
   ]
  },
  {
   "cell_type": "code",
   "execution_count": 34,
   "id": "32d46d9e-3597-4163-9e2c-ec6bf93740a6",
   "metadata": {
    "tags": []
   },
   "outputs": [
    {
     "data": {
      "text/plain": [
       "'Invalid ID ({ID})'"
      ]
     },
     "execution_count": 34,
     "metadata": {},
     "output_type": "execute_result"
    }
   ],
   "source": [
    "generateGreenToken(525, ID)"
   ]
  },
  {
   "cell_type": "markdown",
   "id": "4a333b3e-fb14-4783-890f-83ba88b97ad6",
   "metadata": {
    "tags": []
   },
   "source": [
    "# Generate Red Token"
   ]
  },
  {
   "cell_type": "markdown",
   "id": "7441b7be-641f-4cf8-a3cf-3a1515b97428",
   "metadata": {},
   "source": [
    "Format:\n",
    "> <b>XXXXX - XXX - XXX</b>"
   ]
  },
  {
   "cell_type": "markdown",
   "id": "16ad02b1-42db-4ffd-8126-4ad061da795e",
   "metadata": {},
   "source": [
    "## generateRedA1(ID)"
   ]
  },
  {
   "cell_type": "code",
   "execution_count": 35,
   "id": "11d914b4-9b86-41f9-9734-8684da73c347",
   "metadata": {
    "tags": []
   },
   "outputs": [],
   "source": [
    "def generateRedA1(ID):\n",
    "    \n",
    "    literals = (\n",
    "        #numerals...\n",
    "        '5', '6', '7', '1', '2', '4', '9', '3', '0', '8', \n",
    "    \n",
    "        #alphabets...\n",
    "        'I', 'O', 'E', 'H', 'L', 'Z', 'F', 'G', 'J', 'B', 'A', 'S', 'P',\n",
    "        'R', 'D', 'X', 'W', 'Q', 'K', 'V', 'N', 'C', 'M', 'Y', 'T', 'U'\n",
    "    )\n",
    "    \n",
    "    from random import randint\n",
    "    cd_matrix = list(cd_Matrix(ID))\n",
    "    keys = set()\n",
    "    end = set()\n",
    "    token = ''\n",
    "    \n",
    "    while (True):\n",
    "        while(len(keys) != 3):\n",
    "            keys.add(randint(0, len(cd_matrix)-1))\n",
    "        \n",
    "        while(len(end) != 2):\n",
    "            end.add(randint(0, 35))\n",
    "            \n",
    "        token = f\"{''.join([cd_matrix[i] for i in keys])}{''.join([literals[i] for i in end])}\"\n",
    "        \n",
    "        ds = 0\n",
    "        for t in token:\n",
    "            ds += literals.index(t)\n",
    "        \n",
    "        if (ds%18 == 13):\n",
    "            break\n",
    "            \n",
    "        else:\n",
    "            token = ''; keys = set(); end = set();\n",
    "    \n",
    "    return token "
   ]
  },
  {
   "cell_type": "code",
   "execution_count": 36,
   "id": "153a5da1-bde1-4422-816b-c39499e4f719",
   "metadata": {
    "tags": []
   },
   "outputs": [
    {
     "data": {
      "text/plain": [
       "'Z1ADR'"
      ]
     },
     "execution_count": 36,
     "metadata": {},
     "output_type": "execute_result"
    }
   ],
   "source": [
    "generateRedA1(ID)"
   ]
  },
  {
   "cell_type": "markdown",
   "id": "c6cfb24c-9b33-46de-a5b4-c58a1f370308",
   "metadata": {},
   "source": [
    "## generateRedA2(ID)"
   ]
  },
  {
   "cell_type": "code",
   "execution_count": 37,
   "id": "24b54fe5-14b9-4493-81ce-5b053c66eee4",
   "metadata": {
    "tags": []
   },
   "outputs": [
    {
     "ename": "NameError",
     "evalue": "name 'generateRedA2' is not defined",
     "output_type": "error",
     "traceback": [
      "\u001b[1;31m---------------------------------------------------------------------------\u001b[0m",
      "\u001b[1;31mNameError\u001b[0m                                 Traceback (most recent call last)",
      "Cell \u001b[1;32mIn[37], line 1\u001b[0m\n\u001b[1;32m----> 1\u001b[0m \u001b[43mgenerateRedA2\u001b[49m(ID)\n",
      "\u001b[1;31mNameError\u001b[0m: name 'generateRedA2' is not defined"
     ]
    }
   ],
   "source": [
    "generateRedA2(ID)"
   ]
  },
  {
   "cell_type": "code",
   "execution_count": null,
   "id": "605f8d4c-9702-4d75-9357-278ee71b9c8f",
   "metadata": {
    "tags": []
   },
   "outputs": [],
   "source": [
    "def generateRedA2(ID):\n",
    "    \n",
    "    literals = (\n",
    "        #numerals...\n",
    "        '5', '6', '7', '1', '2', '4', '9', '3', '0', '8', \n",
    "    \n",
    "        #alphabets...\n",
    "        'I', 'O', 'E', 'H', 'L', 'Z', 'F', 'G', 'J', 'B', 'A', 'S', 'P',\n",
    "        'R', 'D', 'X', 'W', 'Q', 'K', 'V', 'N', 'C', 'M', 'Y', 'T', 'U'\n",
    "    )\n",
    "    \n",
    "    from random import randint\n",
    "    ids = list(ID)\n",
    "    keys = set()\n",
    "    token = ''\n",
    "    \n",
    "    while (True):\n",
    "        while(len(keys) != 2):\n",
    "            keys.add(randint(0, len(ids)-1))\n",
    "            \n",
    "        token = f\"{literals[randint(0,35)]}{''.join([ids[i] for i in keys])}\"\n",
    "        \n",
    "        ds = 0\n",
    "        for t in token:\n",
    "            ds += literals.index(t)\n",
    "        \n",
    "        if (ds%9 == 7):\n",
    "            break\n",
    "            \n",
    "        else:\n",
    "            token = ''; keys = set()\n",
    "    \n",
    "    return token "
   ]
  },
  {
   "cell_type": "markdown",
   "id": "4f46b513-ba88-4b07-ad39-98869909a3af",
   "metadata": {},
   "source": [
    "## generateRedA3(ID)"
   ]
  },
  {
   "cell_type": "code",
   "execution_count": null,
   "id": "ba07fc79-fb43-4a29-8a40-97850ca5077a",
   "metadata": {
    "tags": []
   },
   "outputs": [],
   "source": [
    "def generateRedA3(ID):\n",
    "    \n",
    "    literals = (\n",
    "        #numerals...\n",
    "        '5', '6', '7', '1', '2', '4', '9', '3', '0', '8', \n",
    "    \n",
    "        #alphabets...\n",
    "        'I', 'O', 'E', 'H', 'L', 'Z', 'F', 'G', 'J', 'B', 'A', 'S', 'P',\n",
    "        'R', 'D', 'X', 'W', 'Q', 'K', 'V', 'N', 'C', 'M', 'Y', 'T', 'U'\n",
    "    )\n",
    "    \n",
    "    cd_matrix = list(cd_Matrix(ID))\n",
    "    keys = set()\n",
    "    \n",
    "    from random import randint\n",
    "    \n",
    "    while (True):\n",
    "        while (len(keys) != 2):\n",
    "            keys.add(randint(0, 35))\n",
    "        keys = list(keys)\n",
    "        token = f\"{literals[keys[0]]}{cd_matrix[randint(0, len(cd_matrix)-1)]}{literals[keys[1]]}\"\n",
    "        \n",
    "        ds = 0\n",
    "        for t in token:\n",
    "            ds += literals.index(t)\n",
    "        \n",
    "        if (ds%9 == 3):\n",
    "            break\n",
    "            \n",
    "        else:\n",
    "            token = ''; keys = set()\n",
    "    \n",
    "    return token "
   ]
  },
  {
   "cell_type": "code",
   "execution_count": null,
   "id": "25c6b8d2-f552-4da9-a853-b63c509a8679",
   "metadata": {
    "tags": []
   },
   "outputs": [],
   "source": [
    "generateRedA3(ID)"
   ]
  },
  {
   "cell_type": "markdown",
   "id": "041052bf-6f65-4429-b9f8-3e52449c96e7",
   "metadata": {},
   "source": [
    "## generateRedToken(ID)"
   ]
  },
  {
   "cell_type": "code",
   "execution_count": null,
   "id": "4c78a6ef-b691-453d-a841-1686f0c1474b",
   "metadata": {
    "tags": []
   },
   "outputs": [],
   "source": [
    "def generateRedToken(ID):\n",
    "    if (isValidID(ID)):\n",
    "        return f\"{generateRedA1(ID)} - {generateRedA2(ID)} - {generateRedA3(ID)}\"\n",
    "    else:\n",
    "        return f\"Invalid ID ({ID})\""
   ]
  },
  {
   "cell_type": "code",
   "execution_count": null,
   "id": "eb4ef1ef-5445-4aeb-aa78-5285ec8d5284",
   "metadata": {
    "tags": []
   },
   "outputs": [],
   "source": [
    "generateRedToken(ID)"
   ]
  },
  {
   "cell_type": "code",
   "execution_count": null,
   "id": "5c69d1e3-7aba-470c-81d8-811ef8eeac20",
   "metadata": {
    "tags": []
   },
   "outputs": [],
   "source": [
    "generatePAYGToken(\"OL143G2\")"
   ]
  },
  {
   "cell_type": "code",
   "execution_count": null,
   "id": "97d13b94-57f4-467b-862c-50589fb24c17",
   "metadata": {},
   "outputs": [],
   "source": []
  }
 ],
 "metadata": {
  "kernelspec": {
   "display_name": "Python 3 (ipykernel)",
   "language": "python",
   "name": "python3"
  },
  "language_info": {
   "codemirror_mode": {
    "name": "ipython",
    "version": 3
   },
   "file_extension": ".py",
   "mimetype": "text/x-python",
   "name": "python",
   "nbconvert_exporter": "python",
   "pygments_lexer": "ipython3",
   "version": "3.10.12"
  }
 },
 "nbformat": 4,
 "nbformat_minor": 5
}
