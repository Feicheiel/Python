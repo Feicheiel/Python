





import pandas as pd
import numpy as np
import matplotlib.pyplot as plt
import seaborn as sns

from sklearn.svm import SVR
from sklearn.model_selection import train_test_split

from datetime import datetime, timedelta
from dateutil.relativedelta import relativedelta

import warnings
import threading
import time


# Suppress DeprecationWarnings
warnings.filterwarnings("ignore", category=DeprecationWarning)
warnings.filterwarnings('ignore', category=FutureWarning)
pd.options.mode.chained_assignment = None  # default='warn'


color_pal = sns.color_palette()
plt.style.use('fivethirtyeight')
color_pal


# Set the font style
font_style = {'family': 'arial', 'weight': 'normal', 'size': 7
              #, 'color':'darkred'
             }

# Apply the font style
plt.rc('font', **font_style)





ccu = pd.read_csv('nr_cen.csv')





phases = [1, 2, 3]
P1 = np.zeros(len(ccu))
P2 = np.zeros(len(ccu))
P3 = np.zeros(len(ccu))
Pn = np.zeros(len(ccu))

P = [P1, P2, P3]

for phase in range(len(phases)):
    for i in range(3, 50, 2):
        P[phase] += (ccu[f"har{i:02}V{phases[phase]}_Avg [V]"] * ccu[f"har{i:02}I{phases[phase]}_Avg [A]"])


s_pwr = pd.DataFrame({'Datetime':ccu['Time'], 'P1 Harmonic':P1, 'P2 Harmonic':P2, 'P3 Harmonic':P3})
s_pwr.plot()
plt.savefig('cen_raw.jpg', dpi = 200)
plt.show()



s_pwr.dropna(inplace=True)
s_pwr.head(3)









for _ in range(10):
    p1_zeroes = s_pwr['P1 Harmonic'] <= 2
    s_pwr['P1 Harmonic'][p1_zeroes] = s_pwr['P1 Harmonic'].rolling(window=10).mean()

    p2_zeroes = s_pwr['P2 Harmonic'] <= 2
    s_pwr['P2 Harmonic'][p2_zeroes] = s_pwr['P2 Harmonic'].rolling(window=10).mean()

    p3_zeroes = s_pwr['P3 Harmonic'] <= 2
    s_pwr['P3 Harmonic'][p3_zeroes] = s_pwr['P3 Harmonic'].rolling(window=10).mean()

s_pwr.plot() 


color_pal


fig, axe = plt.subplots(figsize=(15, 7))

s_pwr_ = s_pwr.set_index('Datetime')
s_pwr_.index = pd.to_datetime(s_pwr_.index, format="%m/%d/%Y %I:%M:%S %p")

s_pwr_['P1 Harmonic'].plot(ax=axe, color=color_pal[4], title='Central Administration - Harmonic losses on each phase', legend='P1 Harmonic')
s_pwr_['P2 Harmonic'].plot(ax=axe, color=color_pal[5], legend='P2 Harmonic')
s_pwr_['P3 Harmonic'].plot(ax=axe, color=color_pal[6], legend='P3 Harmonic')

axe.legend(['P1 Harmonic', 'P2 Harmonic', 'P3 Harmonic'])
# Add text annotation at a specific point
axe.text(0.05, 0.75, 
         f'Measured Harmonics\n\nP1 Harmonic = {s_pwr['P1 Harmonic'].sum()/6000:>5.2f} kWh\nP2 Harmonic = {s_pwr['P2 Harmonic'].sum()/6000:>5.2f} kWh\nP3 Harmonic = {s_pwr['P3 Harmonic'].sum()/6000:>5.2f} kWh', transform=axe.transAxes, fontsize=12,
        verticalalignment='top', bbox=dict(boxstyle='round', facecolor='white', alpha=0.5))
plt.savefig('cen_harmonics_on_each_phase.jpg', dpi=307)
plt.show()





s_p1 = pd.DataFrame({'Datetime':s_pwr['Datetime'], 'P1_Harmonic':s_pwr['P1 Harmonic']})
s_p2 = pd.DataFrame({'Datetime':s_pwr['Datetime'], 'P2_Harmonic':s_pwr['P2 Harmonic']})
s_p3 = pd.DataFrame({'Datetime':s_pwr['Datetime'], 'P3_Harmonic':s_pwr['P3 Harmonic']})
#s_pn = pd.DataFrame({'Datetime':s_pwr['Datetime'], 'Pn_Harmonic':s_pwr['Pn Harmonic']})


s_p1 = s_p1.set_index('Datetime')
s_p1.index = pd.to_datetime(s_p1.index, format="%m/%d/%Y %I:%M:%S %p")

s_p2 = s_p2.set_index('Datetime')
s_p2.index = pd.to_datetime(s_p2.index, format="%m/%d/%Y %I:%M:%S %p")

s_p3 = s_p3.set_index('Datetime')
s_p3.index = pd.to_datetime(s_p3.index, format="%m/%d/%Y %I:%M:%S %p")

#s_pn = s_pn.set_index('Datetime')
#s_pn.index = pd.to_datetime(s_pn.index, format="%m/%d/%Y %I:%M:%S %p")





def create_features(df):
    """
    Creates time series features based on time series index.
    """
    df = df.copy()
    df['hour'] = df.index.hour
    df['minute'] = df.index.minute
    df['dayofweek'] = df.index.dayofweek
    
    return df


s_p1 = create_features(s_p1)   
s_p2 = create_features(s_p2)   
s_p3 = create_features(s_p3)
#s_pn = create_features(s_pn)

s_p2.head()


set(s_p2['dayofweek'])





s_ps = [s_p1, s_p2, s_p3]
ps = [1, 2, 3]
_2nd_iter = ['hour', 'minute', 'dayofweek']

# Create subplots
fig, axes = plt.subplots(nrows=len(s_ps), ncols=3, figsize=(12, 10))

axes = axes.flatten()

# Set the font style
font_style = {'family': 'arial', 'weight': 'normal', 'size': 9
              #, 'color':'darkred'
             }

# Apply the font style
plt.rc('font', **font_style)

i = 0
for ctr in range(len(s_ps)):
    for b in range(3):
        sns.boxplot(x=_2nd_iter[b], y=f'P{ps[ctr]}_Harmonic', data=s_ps[ctr], ax=axes[i], linewidth=0.7)
        axes[i].set_title(f'Variation of P{ps[ctr]} by the {_2nd_iter[b]}', fontsize=10)
        axes[i].set_ylabel(f'Harmonic, P{ps[ctr]} [W]')
        i += 1

# Adjust layout
plt.tight_layout()

plt.savefig('feature_variations.jpg', dpi=201)

# Show the plot'
plt.show()





def mape(y_true, y_pred):
    """mape: mean_absolute_percentage_error"""
    return np.mean(np.abs((y_true - y_pred)/y_true))*100





# Create a deep copy
s_p1_ = s_p1.copy(deep=True)

# Create lags
s_p1_['lag_1'] = s_p1_['P1_Harmonic'].shift(1)
s_p1_['lag_2'] = s_p1_['P1_Harmonic'].shift(2)
s_p1_['lag_3'] = s_p1_['P1_Harmonic'].shift(3)

# Create rolling window features
s_p1_['rolling_mean_3'] = s_p1_['P1_Harmonic'].rolling(window=3).mean()
s_p1_['rolling_std_3'] = s_p1_['P1_Harmonic'].rolling(window=3).std()
s_p1_['rolling_var_3'] = s_p1_['P1_Harmonic'].rolling(window=3).sum() 

# Dropna
s_p1_.dropna(inplace=True)

# Feature creation and extraction.
sp1_X = s_p1_.drop(columns=['P1_Harmonic'])
sp1_y = s_p1_['P1_Harmonic']

# Train the SVR Model
s_p1_SVR = SVR(kernel='rbf', C=1.3, epsilon=0.3)
s_p1_SVR.fit(sp1_X, sp1_y)

# Make predictions
s_p1_['Predictions'] = s_p1_SVR.predict(sp1_X)

# Evaluate Accuracy
p1_accuracy = 100 - mape(s_p1_['P1_Harmonic'], s_p1_['Predictions'])
#print(f'Accuracy (%): {p1_accuracy: .2f}%')

# Make plots.
ax = s_p1_[['P1_Harmonic']].plot(figsize=(15,5), color=color_pal[-1], title="Central Administration - P1 Phase Prediction vs. True Data")
s_p1_['Predictions'].plot(ax=ax, style='-', color=color_pal[-3])

accur = f'{p1_accuracy:.2f}%'
ax.set_xlabel('Datetime', rotation=0)
ax.legend(['P1 True Data', 'P1 Predicted'])

# Add text annotation at a specific point
ax.text(0.05, 0.95, f'Accuracy: {accur}', transform=ax.transAxes, fontsize=12,
        verticalalignment='top', bbox=dict(boxstyle='round', facecolor='white', alpha=0.5))

plt.savefig('cen_p1__true_vs_predicted.jpg', dpi=307)
plt.show()


s_p1_.head(2)





# Create a deep copy
s_p2_ = s_p2.copy(deep=True)

# Create lags
s_p2_['lag_1'] = s_p2_['P2_Harmonic'].shift(1)
s_p2_['lag_2'] = s_p2_['P2_Harmonic'].shift(2)
s_p2_['lag_3'] = s_p2_['P2_Harmonic'].shift(3)

# Create rolling window features
s_p2_['rolling_mean_3'] = s_p2_['P2_Harmonic'].rolling(window=3).mean()
s_p2_['rolling_std_3'] = s_p2_['P2_Harmonic'].rolling(window=3).std()
s_p2_['rolling_var_3'] = s_p2_['P2_Harmonic'].rolling(window=3).var()

# Dropna
s_p2_.dropna(inplace=True)

# Feature creation and extraction.
sp2_X = s_p2_.drop(columns=['P2_Harmonic'])
sp2_y = s_p2_['P2_Harmonic']

# Train the SVR Model
s_p2_SVR = SVR(kernel='rbf', C=1.3, epsilon=0.3)
s_p2_SVR.fit(sp2_X, sp2_y)

# Make predictions
s_p2_['Predictions'] = s_p2_SVR.predict(sp2_X)

# Evaluate Accuracy
p2_accuracy = 100 - mape(s_p2_['P2_Harmonic'], s_p2_['Predictions'])

# Make plots.
ax = s_p2_[['P2_Harmonic']].plot(figsize=(15,5), color=color_pal[-1], title="Central Administration - P2 Phase Prediction vs. True Data")
s_p2_['Predictions'].plot(ax=ax, style='-', color=color_pal[-2])

accur = f'{p2_accuracy:.2f}%'
ax.set_xlabel('Datetime', rotation=0)
ax.legend(['P2 True Data', 'P2 Predicted'])

# Add text annotation at a specific point
ax.text(0.007, 0.835, f'Accuracy: {accur}', transform=ax.transAxes, fontsize=12,
        verticalalignment='top', bbox=dict(boxstyle='round', facecolor='white', alpha=0.5))

plt.savefig('cen_p2__true_vs_predicted.jpg', dpi=307)
plt.show()





# Create a deep copy
s_p3_ = s_p3.copy(deep=True)

# Create lags
s_p3_['lag_1'] = s_p3_['P3_Harmonic'].shift(1)
s_p3_['lag_2'] = s_p3_['P3_Harmonic'].shift(2)
s_p3_['lag_3'] = s_p3_['P3_Harmonic'].shift(3)

# Create rolling window features
s_p3_['rolling_mean_3'] = s_p3_['P3_Harmonic'].rolling(window=3).mean()
s_p3_['rolling_std_3'] = s_p3_['P3_Harmonic'].rolling(window=3).std()
s_p3_['rolling_var_3'] = s_p3_['P3_Harmonic'].rolling(window=3).var()

# Dropna
s_p3_.dropna(inplace=True)

# Feature creation and extraction.
sp3_X = s_p3_.drop(columns=['P3_Harmonic'])
sp3_y = s_p3_['P3_Harmonic']

# Train the SVR Model
s_p3_SVR = SVR(kernel='rbf', C=1.3, epsilon=0.3)
s_p3_SVR.fit(sp3_X, sp3_y)

# Make predictions
s_p3_['Predictions'] = s_p3_SVR.predict(sp3_X)

# Evaluate Accuracy
p3_accuracy = 100 - mape(s_p3_['P3_Harmonic'], s_p3_['Predictions'])

# Make plots.
ax = s_p3_[['P3_Harmonic']].plot(figsize=(15,5), color=color_pal[-5], title="Central Administration - P3 Phase Prediction vs. True Data")
s_p3_['Predictions'].plot(ax=ax, style='-', color=color_pal[1])

accur = f'{p3_accuracy:.2f}%'
ax.set_xlabel('Datetime', rotation=0)
ax.legend(['P3 True Data', 'P3 Predicted'])

# Add text annotation at a specific point
ax.text(0.009, 0.850, f'Accuracy: {accur}', transform=ax.transAxes, fontsize=12,
        verticalalignment='top', bbox=dict(boxstyle='round', facecolor='white', alpha=0.5))

plt.savefig('cen_p3__true_vs_predicted.jpg', dpi=307)
plt.show()








# The Seed
s_p1_seed = s_p1_.tail(10).copy(deep=True)
s_p1_seed.head(3)


# number of years to predict for.
sp1_n = 5

sp1_start_date = datetime.strptime(str(list(s_p1_seed.index)[0]), '%Y-%m-%d %H:%M:%S')
sp1_end_date = sp1_start_date + relativedelta(years=sp1_n)

sp1_dates = np.array(s_p1_seed.index.astype(str))
sp1_harmonics = np.array(s_p1_seed['P1_Harmonic'].values)
sp1_hr = np.array(s_p1_seed['hour'].values)
sp1_min = np.array(s_p1_seed['minute'].values)
sp1_dow = np.array(s_p1_seed['dayofweek'].values)
sp1_lag_1 = np.array(s_p1_seed['lag_1'].values)
sp1_lag_2 = np.array(s_p1_seed['lag_2'].values)
sp1_lag_3 = np.array(s_p1_seed['lag_3'].values)
sp1_roll_mean_3 = np.array(s_p1_seed['rolling_mean_3'].values)
sp1_roll_std_3 = np.array(s_p1_seed['rolling_std_3'].values)
sp1_roll_var_3 = np.array(s_p1_seed['rolling_var_3'].values)
sp1_y_pred = np.array(s_p1_seed['Predictions'].values)

# Pre-allocate memory for future values
sp1_prediction_horizon = int((sp1_end_date - sp1_start_date).total_seconds() // 600)  # 10-minute increments
sp1_future_dates = np.empty(sp1_prediction_horizon, dtype="U19")  # Pre-allocate date array (string format)
sp1_future_p1_h = np.empty(sp1_prediction_horizon)
sp1_future_lag_1 = np.empty(sp1_prediction_horizon)
sp1_future_lag_2 = np.empty(sp1_prediction_horizon)
sp1_future_lag_3 = np.empty(sp1_prediction_horizon)
sp1_future_roll_mean_3 = np.empty(sp1_prediction_horizon)
sp1_future_roll_std_3 = np.empty(sp1_prediction_horizon)
sp1_future_roll_var_3 = np.empty(sp1_prediction_horizon)
sp1_future_hr = np.empty(sp1_prediction_horizon, dtype=int)
sp1_future_min = np.empty(sp1_prediction_horizon, dtype=int)
sp1_future_dow = np.empty(sp1_prediction_horizon, dtype=int)
sp1_future_y_pred = np.empty(sp1_prediction_horizon)

# Initialize current time from the last date
sp1_current_date = datetime.strptime(sp1_dates[-1], '%Y-%m-%d %H:%M:%S')

i = 0


def sp1_timer():
    start_time = time.time()
    while not task1_done:
        elapsed_time = time.time() - start_time
        hours, rem = divmod(elapsed_time, 3600)
        minutes, seconds = divmod(rem, 60)
        print(f"\033[1;95mElapsed time: {int(hours):02}:{int(minutes):02}:{int(seconds):02} (Run {i:,} out of {sp1_prediction_horizon:,})", end='\r')
        time.sleep(0.0001)  # Update every second


task1_done = False

timer1_thread = threading.Thread(target=sp1_timer)
timer1_thread.start()

# Loop to generate predictions
while i < sp1_prediction_horizon:
    # Advance time by 10 minutes
    sp1_current_date += timedelta(minutes=10)
    sp1_current_hr = sp1_current_date.hour
    sp1_current_min = sp1_current_date.minute
    sp1_current_dow = sp1_current_date.weekday()
    
    # Append new values to the arrays
    sp1_future_dates[i] = sp1_current_date.strftime('%Y-%m-%d %H:%M:%S')
    sp1_future_hr[i] = sp1_current_hr
    sp1_future_min[i] = sp1_current_min
    sp1_future_dow[i] = sp1_current_dow
    sp1_future_p1_h[i] = sp1_y_pred[-1]  # Previous prediction becomes the new harmonic value
    
    # Update lag features
    sp1_future_lag_1[i] = sp1_future_p1_h[i - 1] if i > 0 else sp1_harmonics[-1]
    sp1_future_lag_2[i] = sp1_future_lag_1[i - 1] if i > 1 else sp1_lag_1[-1]
    sp1_future_lag_3[i] = sp1_future_lag_2[i - 1] if i > 2 else sp1_lag_2[-1]
    
    # Compute rolling statistics (using pre-existing values)
    sp1_window_p1_h = np.concatenate((sp1_harmonics[-2:], sp1_future_p1_h[:i+1]))[-3:]
    sp1_future_roll_mean_3[i] = np.mean(sp1_window_p1_h)
    sp1_future_roll_std_3[i] = np.std(sp1_window_p1_h)
    sp1_future_roll_var_3[i] = np.var(sp1_window_p1_h)
    
    # Construct the input data for the model prediction
    sp1_X = pd.DataFrame({
        'hour': np.concatenate((sp1_hr, sp1_future_hr[:i+1])),
        'minute': np.concatenate((sp1_min, sp1_future_min[:i+1])),
        'dayofweek': np.concatenate((sp1_dow, sp1_future_dow[:i+1])),
        'lag_1': np.concatenate((sp1_lag_1, sp1_future_lag_1[:i+1])),
        'lag_2': np.concatenate((sp1_lag_2, sp1_future_lag_2[:i+1])),
        'lag_3': np.concatenate((sp1_lag_3, sp1_future_lag_3[:i+1])),
        'rolling_mean_3': np.concatenate((sp1_roll_mean_3, sp1_future_roll_mean_3[:i+1])),
        'rolling_std_3': np.concatenate((sp1_roll_std_3, sp1_future_roll_std_3[:i+1])),
        'rolling_var_3': np.concatenate((sp1_roll_var_3, sp1_future_roll_var_3[:i+1]))
    })
    
    # Predict and append the result
    y_pred1 = s_p1_SVR.predict(sp1_X.iloc[-1:])
    sp1_future_y_pred[i] = y_pred1

    # Update _y_pred for future iterations
    sp1_y_pred = np.append(sp1_y_pred, y_pred1)

    i += 1

task1_done = True
timer1_thread.join()
i


task1_done = True
timer1_thread.join()
i


s_p1_future = pd.DataFrame({'Datetime':sp1_future_dates,
                       'P1_Harmonic':sp1_future_p1_h,
                       'hour':sp1_future_hr,
                       'minute':sp1_future_min,
                       'dayofweek':sp1_future_dow,
                       'lag_1':sp1_future_lag_1,
                       'lag_2':sp1_future_lag_2,
                       'lag_3':sp1_future_lag_3,
                       'rolling_mean_3':sp1_future_roll_mean_3,
                       'rolling_std_3':sp1_future_roll_std_3,
                       'rolling_var_3':sp1_future_roll_var_3,
                       'y_pred':sp1_future_y_pred
                      })

s_p1_future = s_p1_future.set_index('Datetime')
s_p1_future.index = pd.to_datetime(s_p1_future.index, format='%Y-%m-%d %H:%M:%S')
s_p1_future


min(set(s_p1_future['y_pred']))


s_p1_future_kWh = np.abs(s_p1_future['y_pred']).sum()/6000
s_p1_future_kWh


sp1_day = s_p1_future.loc['2027-08-15 23:33:00':'2027-08-17 15:53:00']

ax = sp1_day[['y_pred']].plot(
    figsize=(17,7), 
    label='Predicted P1 Harmonics', 
    color=color_pal[5], 
    title="Credit Union - Sample snapshot of Predicted P1 Harmonics for 15-08-2028 to 17-08-2028"
)

ax.set_xlabel('Datetime', rotation=0)

# Add text annotation at a specific point
ax.text(0.15, 0.95, f'Total P1 Harmonics: {s_p1_future_kWh:0.2f} kWh', transform=ax.transAxes, fontsize=13,
        verticalalignment='top', bbox=dict(boxstyle='round', facecolor='white', alpha=0.73))

plt.xlabel('Date')
plt.ylabel('P1 Harmonic (Predicted), W')
plt.grid(True)
plt.legend(['Predicted P1 Harmonics'])

plt.savefig('cen_p1_predicted.jpg', dpi=307)
plt.show()









# The Seed
s_p2_seed = s_p2_.tail(10).copy(deep=True)
s_p2_seed


# number of years to predict for.
sp2_n = 5

sp2_start_date = datetime.strptime(str(list(s_p2_seed.index)[0]), '%Y-%m-%d %H:%M:%S')
sp2_end_date = sp2_start_date + relativedelta(years=sp2_n)

sp2_dates = np.array(s_p2_seed.index.astype(str))
sp2_harmonics = np.array(s_p2_seed['P2_Harmonic'].values)
sp2_hr = np.array(s_p2_seed['hour'].values)
sp2_min = np.array(s_p2_seed['minute'].values)
sp2_dow = np.array(s_p2_seed['dayofweek'].values)
sp2_lag_1 = np.array(s_p2_seed['lag_1'].values)
sp2_lag_2 = np.array(s_p2_seed['lag_2'].values)
sp2_lag_3 = np.array(s_p2_seed['lag_3'].values)
sp2_roll_mean_3 = np.array(s_p2_seed['rolling_mean_3'].values)
sp2_roll_std_3 = np.array(s_p2_seed['rolling_std_3'].values)
sp2_roll_var_3 = np.array(s_p2_seed['rolling_var_3'].values)
sp2_y_pred = np.array(s_p2_seed['Predictions'].values)

# Pre-allocate memory for future values
sp2_prediction_horizon = int((sp2_end_date - sp2_start_date).total_seconds() // 600)  # 10-minute increments
sp2_future_dates = np.empty(sp2_prediction_horizon, dtype="U19")  # Pre-allocate date array (string format)
sp2_future_p2_h = np.empty(sp2_prediction_horizon)
sp2_future_lag_1 = np.empty(sp2_prediction_horizon)
sp2_future_lag_2 = np.empty(sp2_prediction_horizon)
sp2_future_lag_3 = np.empty(sp2_prediction_horizon)
sp2_future_roll_mean_3 = np.empty(sp2_prediction_horizon)
sp2_future_roll_std_3 = np.empty(sp2_prediction_horizon)
sp2_future_roll_var_3 = np.empty(sp2_prediction_horizon)
sp2_future_hr = np.empty(sp2_prediction_horizon, dtype=int)
sp2_future_min = np.empty(sp2_prediction_horizon, dtype=int)
sp2_future_dow = np.empty(sp2_prediction_horizon, dtype=int)
sp2_future_y_pred = np.empty(sp2_prediction_horizon)

# Initialize current time from the last date
sp2_current_date = datetime.strptime(sp2_dates[-1], '%Y-%m-%d %H:%M:%S')

j = 0


def sp2_timer():
    start_time = time.time()
    while not task2_done:
        elapsed_time = time.time() - start_time
        hours, rem = divmod(elapsed_time, 3600)
        minutes, seconds = divmod(rem, 60)
        print(f"\033[1;95mElapsed time: {int(hours):02}:{int(minutes):02}:{int(seconds):02} (Run {j:,} out of {sp2_prediction_horizon:,})", end='\r')
        time.sleep(0.0001)  # Update every second


task2_done = False

timer2_thread = threading.Thread(target=sp2_timer)
timer2_thread.start()

# Loop to generate predictions
while j < sp2_prediction_horizon:
    # Advance time by 10 minutes
    sp2_current_date += timedelta(minutes=10)
    sp2_current_hr = sp2_current_date.hour
    sp2_current_min = sp2_current_date.minute
    sp2_current_dow = sp2_current_date.weekday()
    
    # Append new values to the arrays
    sp2_future_dates[j] = sp2_current_date.strftime('%Y-%m-%d %H:%M:%S')
    sp2_future_hr[j] = sp2_current_hr
    sp2_future_min[j] = sp2_current_min
    sp2_future_dow[j] = sp2_current_dow
    sp2_future_p2_h[j] = sp2_y_pred[-1]  # Previous prediction becomes the new harmonic value
    
    # Update lag features
    sp2_future_lag_1[j] = sp2_future_p2_h[j - 1] if j > 0 else sp2_harmonics[-1]
    sp2_future_lag_2[j] = sp2_future_lag_1[j - 1] if j > 1 else sp2_lag_1[-1]
    sp2_future_lag_3[j] = sp2_future_lag_2[j - 1] if j > 2 else sp2_lag_2[-1]
    
    # Compute rolling statistics (using pre-existing values)
    sp2_window_p2_h = np.concatenate((sp2_harmonics[-2:], sp2_future_p2_h[:j+1]))[-3:]
    sp2_future_roll_mean_3[j] = np.mean(sp2_window_p2_h)
    sp2_future_roll_std_3[j] = np.std(sp2_window_p2_h)
    sp2_future_roll_var_3[j] = np.var(sp2_window_p2_h)
    
    # Construct the input data for the model prediction
    sp2_X = pd.DataFrame({
        'hour': np.concatenate((sp2_hr, sp2_future_hr[:j+1])),
        'minute': np.concatenate((sp2_min, sp2_future_min[:j+1])),
        'dayofweek': np.concatenate((sp2_min, sp2_future_min[:j+1])),
        'lag_1': np.concatenate((sp2_lag_1, sp2_future_lag_1[:j+1])),
        'lag_2': np.concatenate((sp2_lag_2, sp2_future_lag_2[:j+1])),
        'lag_3': np.concatenate((sp2_lag_3, sp2_future_lag_3[:j+1])),
        'rolling_mean_3': np.concatenate((sp2_roll_mean_3, sp2_future_roll_mean_3[:j+1])),
        'rolling_std_3': np.concatenate((sp2_roll_std_3, sp2_future_roll_std_3[:j+1])),
        'rolling_var_3': np.concatenate((sp2_roll_var_3, sp2_future_roll_var_3[:j+1]))
    })
    
    # Predict and append the result
    y_pred2 = s_p2_SVR.predict(sp2_X.iloc[-1:])
    sp2_future_y_pred[j] = y_pred2

    # Update _y_pred for future iterations
    sp2_y_pred = np.append(sp2_y_pred, y_pred2)

    j += 1

task2_done = True
timer2_thread.join()
j


s_p2_future = pd.DataFrame({'Datetime':sp2_future_dates,
                       'P1_Harmonic':sp2_future_p2_h,
                       'hour':sp2_future_hr,
                       'minute':sp2_future_min,
                       'dayofweek':sp2_future_dow,
                       'lag_1':sp2_future_lag_1,
                       'lag_2':sp2_future_lag_2,
                       'lag_3':sp2_future_lag_3,
                       'rolling_mean_3':sp2_future_roll_mean_3,
                       'rolling_std_3':sp2_future_roll_std_3,
                       'rolling_var_3':sp2_future_roll_var_3,
                       'y_pred':sp2_future_y_pred
                      })


s_p2_future = s_p2_future.set_index('Datetime')
s_p2_future.index = pd.to_datetime(s_p2_future.index, format='%Y-%m-%d %H:%M:%S')
s_p2_future


s_p2_future_kWh = np.abs(s_p2_future['y_pred']).sum()/6000
s_p2_future_kWh


sp2_day = s_p2_future.loc['2027-08-15 23:33:00':'2027-08-17 15:53:00']

ax = sp2_day[['y_pred']].plot(
    figsize=(17,7), 
    label='Predicted P2 Harmonics', 
    color=color_pal[6], 
    title="Central Administration - Sample snapshot of Predicted P2 Harmonics for 15-08-2028 to 17-08-2028"
)

ax.set_xlabel('Datetime', rotation=0)

# Add text annotation at a specific point
ax.text(0.15, 0.75, f'Total P1 Harmonics: {s_p2_future_kWh:0.2f} kWh', transform=ax.transAxes, fontsize=13,
        verticalalignment='top', bbox=dict(boxstyle='round', facecolor='white', alpha=0.73))

plt.xlabel('Date')
plt.ylabel('P2 Harmonic (Predicted), W')
plt.grid(True)
plt.legend(['Predicted P2 Harmonics'])

plt.savefig('cen_p2_predicted.jpg', dpi=307)
plt.show()








# The Seed
s_p3_seed = s_p3_.tail(10).copy(deep=True)
s_p3_seed


# number of years to predict for.
sp3_n = 5

sp3_start_date = datetime.strptime(str(list(s_p3_seed.index)[0]), '%Y-%m-%d %H:%M:%S')
sp3_end_date = sp3_start_date + relativedelta(years=sp3_n)

sp3_dates = np.array(s_p3_seed.index.astype(str))
sp3_harmonics = np.array(s_p3_seed['P3_Harmonic'].values)
sp3_hr = np.array(s_p3_seed['hour'].values)
sp3_min = np.array(s_p3_seed['minute'].values)
sp3_dow = np.array(s_p3_seed['dayofweek'].values)
sp3_lag_1 = np.array(s_p3_seed['lag_1'].values)
sp3_lag_2 = np.array(s_p3_seed['lag_2'].values)
sp3_lag_3 = np.array(s_p3_seed['lag_3'].values)
sp3_roll_mean_3 = np.array(s_p3_seed['rolling_mean_3'].values)
sp3_roll_std_3 = np.array(s_p3_seed['rolling_std_3'].values)
sp3_roll_var_3 = np.array(s_p3_seed['rolling_var_3'].values)
sp3_y_pred = np.array(s_p3_seed['Predictions'].values)

# Pre-allocate memory for future values
sp3_prediction_horizon = int((sp3_end_date - sp3_start_date).total_seconds() // 600)  # 10-minute increments
sp3_future_dates = np.empty(sp3_prediction_horizon, dtype="U19")  # Pre-allocate date array (string format)
sp3_future_p3_h = np.empty(sp3_prediction_horizon)
sp3_future_lag_1 = np.empty(sp3_prediction_horizon)
sp3_future_lag_2 = np.empty(sp3_prediction_horizon)
sp3_future_lag_3 = np.empty(sp3_prediction_horizon)
sp3_future_roll_mean_3 = np.empty(sp3_prediction_horizon)
sp3_future_roll_std_3 = np.empty(sp3_prediction_horizon)
sp3_future_roll_var_3 = np.empty(sp3_prediction_horizon)
sp3_future_hr = np.empty(sp3_prediction_horizon, dtype=int)
sp3_future_min = np.empty(sp3_prediction_horizon, dtype=int)
sp3_future_dow = np.empty(sp3_prediction_horizon, dtype=int)
sp3_future_y_pred = np.empty(sp3_prediction_horizon)

# Initialize current time from the last date
sp3_current_date = datetime.strptime(sp3_dates[-1], '%Y-%m-%d %H:%M:%S')

k = 0


def sp3_timer():
    start_time = time.time()
    while not task3_done:
        elapsed_time = time.time() - start_time
        hours, rem = divmod(elapsed_time, 3600)
        minutes, seconds = divmod(rem, 60)
        print(f"\033[1;95mElapsed time: {int(hours):02}:{int(minutes):02}:{int(seconds):02} (Run {k:,} out of {sp3_prediction_horizon:,})", end='\r')
        time.sleep(0.0001)  # Update every second


task3_done = False

timer3_thread = threading.Thread(target=sp3_timer)
timer3_thread.start()

# Loop to generate predictions
while k < sp3_prediction_horizon:
    # Advance time by 10 minutes
    sp3_current_date += timedelta(minutes=10)
    sp3_current_hr = sp3_current_date.hour
    sp3_current_min = sp3_current_date.minute
    
    # Append new values to the arrays
    sp3_future_dates[k] = sp3_current_date.strftime('%Y-%m-%d %H:%M:%S')
    sp3_future_hr[k] = sp3_current_hr
    sp3_future_min[k] = sp3_current_min
    sp3_future_p3_h[k] = sp3_y_pred[-1]  # Previous prediction becomes the new harmonic value
    
    # Update lag features
    sp3_future_lag_1[k] = sp3_future_p3_h[k - 1] if k > 0 else sp3_harmonics[-1]
    sp3_future_lag_2[k] = sp3_future_lag_1[k - 1] if k > 1 else sp3_lag_1[-1]
    sp3_future_lag_3[k] = sp3_future_lag_2[k - 1] if k > 2 else sp3_lag_2[-1]

    # Compute rolling statistics (using pre-existing values)
    sp3_window_p3_h = np.concatenate((sp3_harmonics[-2:], sp3_future_p3_h[:k+1]))[-3:]
    sp3_future_roll_mean_3[k] = np.mean(sp3_window_p3_h)
    sp3_future_roll_std_3[k] = np.std(sp3_window_p3_h)

    # Construct the input data for the model prediction
    sp3_X = pd.DataFrame({
        'hour': np.concatenate((sp3_hr, sp3_future_hr[:k+1])),
        'minute': np.concatenate((sp3_min, sp3_future_min[:k+1])),
        'dayofweek': np.concatenate((sp3_dow, sp3_future_dow[:k+1])),
        'lag_1': np.concatenate((sp3_lag_1, sp3_future_lag_1[:k+1])),
        'lag_2': np.concatenate((sp3_lag_2, sp3_future_lag_2[:k+1])),
        'lag_3': np.concatenate((sp3_lag_3, sp3_future_lag_3[:k+1])),
        'rolling_mean_3': np.concatenate((sp3_roll_mean_3, sp3_future_roll_mean_3[:k+1])),
        'rolling_std_3': np.concatenate((sp3_roll_std_3, sp3_future_roll_std_3[:k+1])),
        'rolling_var_3': np.concatenate((sp3_roll_var_3, sp3_future_roll_var_3[:k+1]))
    })
    
    # Predict and append the result
    y_pred3 = s_p3_SVR.predict(sp3_X.iloc[-1:])
    sp3_future_y_pred[k] = y_pred3

    # Update _y_pred for future iterations
    sp3_y_pred = np.append(sp3_y_pred, y_pred3)

    k += 1

task3_done = True
timer3_thread.join()
k


s_p3_future = pd.DataFrame({'Datetime':sp3_future_dates,
                       'P3_Harmonic':sp3_future_p3_h,
                       'hour':sp3_future_hr,
                       'minute':sp3_future_min,
                       'dayofweek':sp3_future_dow,
                       'lag_1':sp3_future_lag_1,
                       'lag_2':sp3_future_lag_2,
                       'lag_3':sp3_future_lag_3,
                       'rolling_mean_3':sp3_future_roll_mean_3,
                       'rolling_std_3':sp3_future_roll_std_3,
                       'rolling_var_3':sp3_future_roll_var_3,
                       'y_pred':sp3_future_y_pred
                      })


s_p3_future = s_p3_future.set_index('Datetime')
s_p3_future.index = pd.to_datetime(s_p3_future.index, format='%Y-%m-%d %H:%M:%S')
s_p3_future


s_p3_future_kWh = np.abs(s_p3_future['y_pred']).sum()/6000
s_p3_future_kWh


sp3_day = s_p3_future.loc['2027-08-15 23:33:00':'2027-08-17 15:53:00']

ax = sp3_day[['y_pred']].plot(
    figsize=(17,7), 
    label='Predicted P3 Harmonics', 
    color=color_pal[2], 
    title="Central Administration - Sample snapshot of Predicted P3 Harmonics for 15-08-2028 to 17-08-2028"
)

ax.set_xlabel('Datetime', rotation=0)

# Add text annotation at a specific point
ax.text(0.15, 0.95, f'Total P3 Harmonics: {s_p3_future_kWh:0.2f} kWh', transform=ax.transAxes, fontsize=13,
        verticalalignment='top', bbox=dict(boxstyle='round', facecolor='white', alpha=0.73))

plt.xlabel('Date')
plt.ylabel('P3 Harmonic (Predicted), W')
plt.grid(True)
plt.legend(['Predicted P3 Harmonics'])

plt.savefig('cen_p3_predicted.jpg', dpi=307)
plt.show()








#Phase 1
s_p1_future_kWh


#Phase 2
s_p2_future_kWh


#Phase 3
s_p3_future_kWh


s_tot_harmonic_5y = s_p1_future_kWh + s_p2_future_kWh + s_p3_future_kWh
print(f"Total Harmonics for Central Administration in 5 years: {s_tot_harmonic_5y:.02f} kWh")





#cost of electricity...
def energyCost(x: float, residential=True, tag='') -> float:
    """
    Arguments:
        x = Energy, kWh.
        residential
            True: Residential
            False: Non-Residential
            
        tag = ''
            slt-lv, slt-mv, slt-hv, slt-hv steel, slt-hv mines. 
            (special load tariff for non-residential customers)
        
    Returns:
        A tuple of
        (electricity_charge, lighting_levy, national_electrification_levy, service_charge, NHIL, VAT, total_charge)
    """
    
    total_charge = 0.0
    electricityCost = 0.0
    service_charge = 0.0
    lighting_levy = 0.0
    nat_elec_levy = 0.0
    VAT = 0.0; NHIL = 0.0;
    if(residential): #Residential Customer.
        
        if((x >= 0) and (x <= 30)): #lifeline customer...
            service_charge = 2.13
            electricityCost = (0.634792 * x) 
        else:
            service_charge = 10.730886
            if ((x > 30) and (x <= 300)):
                electricityCost = (0.634792 * 30) + (1.405722 * (x - 30))
            elif ((x > 300)):# and (x <= 600)):
                electricityCost = (0.634792 * 30) + (1.405722 * 270)  + (1.857432 * (x - 300))
            #elif (x > 600):
            #    electricityCost = (0.544627 * 30) + (1.157212 * 270)  + (1.501837 * 300) + (1.668708 * (x - 600))
        
        #calculating total energy cost.
        lighting_levy = 0.03 * electricityCost
        nat_elec_levy = 0.02 * electricityCost
        total_charge = electricityCost + lighting_levy + nat_elec_levy + service_charge
    
    else: #Nonresidential Customer.
        if (tag == ''):
            service_charge = 12.428245
            if ((x >= 0) and (x <= 300)):
                electricityCost = (1.269145 * x)
            elif ((x > 300)):# and (x <= 600)):
                electricityCost = (1.269145 * 300) + (1.577242 * (x - 300))
            #elif (x > 600):
            #    electricityCost = (1.088876 * 300) + (1.158681 * 300) + (1.729692 * (x - 600))
        else: #Special load tariffs.
            service_charge = 500.00
            if ('lv' in tag.lower()): 
                electricityCost = (x * 1.723461)
            elif ('mv' in tag.lower()):
                electricityCost = (x * 1.308541)
            elif ('steel' in tag.lower()):
                electricityCost = (x * 0.968627)
            elif (tag.lower() == 'mines'):
                electricityCost = (x * 3.430618)
            elif ('hv' in tag.lower()):
                electricityCost = (x * 1.373370)
            
        #other tariffs...
        lighting_levy = 0.03 * electricityCost
        nat_elec_levy = 0.02 * electricityCost
        pre_tax = lighting_levy + nat_elec_levy + service_charge + electricityCost
        NHIL = 0.05 * (pre_tax)
        VAT = 0.15 * (NHIL + pre_tax)
        total_charge = pre_tax + VAT + NHIL
                
    return total_charge


monthly_kWh = s_tot_harmonic_5y / (5*12)
total_GHS_5y = 5 * 12 * energyCost(monthly_kWh, residential=False)
print(f"For a 5 year sum of {s_tot_harmonic_5y:.02f} kWh ({monthly_kWh:.02f} kWh monthly), equivalent to GHS {total_GHS_5y:0.2f} over 5 years") 


monthly_kWh = s_tot_harmonic_5y #/ (5*12)
total_GHS_5y = 5 * 12 * energyCost(monthly_kWh, residential=False)
print(f"For a 5 year sum of {s_tot_harmonic_5y:.02f} kWh ({monthly_kWh:.02f} kWh monthly), equivalent to GHS {total_GHS_5y:0.2f} over 5 years") 











from scipy.signal import savgol_filter





# Create a copy
s_p1_sv = s_p1.copy(deep = True)
s_p1_sv = s_p1_sv.drop(columns=['hour', 'minute', 'dayofweek'])


#Smoothening the data 3 times to see how it affects accuracy.
s_p1_sv['Smoothed'] = savgol_filter(s_p1_sv['P1_Harmonic'], window_length=7, polyorder=2)
for _ in range(1,37777):
    s_p1_sv['Smoothed'] = savgol_filter(s_p1_sv['Smoothed'], window_length=7, polyorder = 2)

s_p1_sv.plot()








# Create a copy
s_p2_sv = s_p2.copy(deep = True)
s_p2_sv = s_p2_sv.drop(columns=['hour', 'minute', 'dayofweek'])


#Smoothening the data 3 times to see how it affects accuracy.
s_p2_sv['Smoothed'] = savgol_filter(s_p2_sv['P2_Harmonic'], window_length=7, polyorder=2)
for _ in range(1,30000):
    s_p2_sv['Smoothed'] = savgol_filter(s_p2_sv['Smoothed'], window_length=7, polyorder = 2)

s_p2_sv.plot()








# Create a copy
s_p3_sv = s_p3.copy(deep = True)
s_p3_sv = s_p3_sv.drop(columns=['hour', 'minute', 'dayofweek'])


#Smoothening the data 3 times to see how it affects accuracy.
s_p3_sv['Smoothed'] = savgol_filter(s_p3_sv['P3_Harmonic'], window_length=7, polyorder=2)
for _ in range(1,30000):
    s_p3_sv['Smoothed'] = savgol_filter(s_p3_sv['Smoothed'], window_length=7, polyorder = 2)

s_p3_sv.plot()



